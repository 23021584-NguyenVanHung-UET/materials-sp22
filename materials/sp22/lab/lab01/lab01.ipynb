{
 "cells": [
  {
   "cell_type": "code",
   "execution_count": null,
   "id": "ed235c6f",
   "metadata": {
    "deletable": false,
    "editable": false
   },
   "outputs": [],
   "source": [
    "# Initialize Otter\n",
    "import otter\n",
    "grader = otter.Notebook(\"lab01.ipynb\")"
   ]
  },
  {
   "cell_type": "markdown",
   "id": "02961475",
   "metadata": {
    "deletable": false,
    "jp-MarkdownHeadingCollapsed": true,
    "tags": []
   },
   "source": [
    "# Lab 1: Expressions\n",
    "\n",
    "Welcome to Data 8: *Foundations of Data Science*!  Each week you will complete a lab assignment like this one.  You can't learn technical subjects without hands-on practice, so labs are an important part of the course.\n",
    "\n",
    "Before we get started, there are some administrative details.\n",
    "\n",
    "The weekly lab sessions are designed to develop your skills with computational and inferential concepts. These lab assignments are a required part of the course and will be released on Monday nights.\n",
    "\n",
    "Lab sessions are not webcast! Here are the policies for getting full credit:\n",
    "\n",
    "1. To receive credit for the lab notebook (8% final grade), you must submit it by 5pm on the Friday the same week it was released.\n",
    "\n",
    "2. To receive credit for the lab attendance (2% final grade), you must attend at least 5 out of the 12 labs. \n",
    "\n",
    "For Lab 1, however, you are **required** to attend lab and be checked off. \n",
    "\n",
    "You can find the Lab Queue at [lab.data8.org](https://lab.data8.org/). You can add yourself to the queue to get help from a GSI or academic intern! Please feel free to add yourself to the queue whenever you feel stuck or need some further clarification -- we are more than happy to help. \n",
    "\n",
    "Collaborating on labs is more than okay -- it's encouraged! You should rarely remain stuck for more than a few minutes on questions in labs, so ask an instructor or classmate for help. (Explaining things is beneficial, too -- the best way to solidify your knowledge of a subject is to explain it.) Please don't just share answers, though.\n",
    "\n",
    "You can read more of the [course policies](http://data8.org/sp22/policies.html) on the [course website](http://data8.org/sp22/).\n",
    "\n",
    "#### Today's lab\n",
    "\n",
    "In today's lab, you'll learn how to:\n",
    "\n",
    "1. navigate Jupyter notebooks (like this one);\n",
    "2. write and evaluate some basic *expressions* in Python, the computer language of the course;\n",
    "3. call *functions* to use code other people have written; and\n",
    "4. break down Python code into smaller parts to understand it.\n",
    "\n",
    "This lab covers parts of [Chapter 3](http://www.inferentialthinking.com/chapters/03/programming-in-python.html) of the online textbook. You should read the examples in the book, but not right now. Instead, let's get started!"
   ]
  },
  {
   "cell_type": "markdown",
   "id": "23841ac7",
   "metadata": {
    "deletable": false,
    "editable": false
   },
   "source": [
    "# 0. Mandatory Policies Form\n",
    "Reading the text above this will save you time!\n",
    "\n",
    "Fill out [this](https://forms.gle/CeHGTKkjYYpYseCq7) form before moving on. Please use your Berkeley email to access the form. At the end of the form, there will be a secret word that you should input into the box below. Remember to put the secret word in quotes when inputting it (i.e.\"hello\"). The quotation marks indicate that it is a String type!\n",
    "\n",
    "<!--\n",
    "BEGIN QUESTION\n",
    "name: q0\n",
    "-->"
   ]
  },
  {
   "cell_type": "code",
   "execution_count": 1,
   "id": "3d88e385",
   "metadata": {
    "execution": {
     "iopub.execute_input": "2022-01-17T06:53:19.536157Z",
     "iopub.status.busy": "2022-01-17T06:53:19.535042Z",
     "iopub.status.idle": "2022-01-17T06:53:19.539553Z",
     "shell.execute_reply": "2022-01-17T06:53:19.538797Z"
    }
   },
   "outputs": [],
   "source": [
    "secret_word = ..."
   ]
  },
  {
   "cell_type": "code",
   "execution_count": null,
   "id": "417bcdc1",
   "metadata": {
    "deletable": false,
    "editable": false
   },
   "outputs": [],
   "source": [
    "grader.check(\"q0\")"
   ]
  },
  {
   "cell_type": "markdown",
   "id": "a3bfbb99",
   "metadata": {},
   "source": [
    "# 1. Jupyter Notebooks\n",
    "This webpage is called a Jupyter Notebook. A notebook is a place to write programs and view their results, and also to write text.\n",
    "\n",
    "## 1.1. Text cells\n",
    "In a notebook, each rectangle containing text or code is called a *cell*.\n",
    "\n",
    "Text cells (like this one) can be edited by double-clicking on them. They're written in a simple format called [Markdown](http://daringfireball.net/projects/markdown/syntax) to add formatting and section headings.  You don't need to learn Markdown, but you might want to.\n",
    "\n",
    "After you edit a text cell, click the \"run cell\" button at the top that looks like ▶| or hold down `shift` + `return` to confirm any changes. (Try not to delete the instructions of the lab.)"
   ]
  },
  {
   "cell_type": "markdown",
   "id": "a2ead3d1",
   "metadata": {
    "deletable": false
   },
   "source": [
    "**Question 1.1.1.** This paragraph is in its own text cell.  Try editing it so that this sentence is the last sentence in the paragraph, and then click the \"run cell\" ▶| button or hold down `shift` + `return`.  This sentence, for example, should be deleted.  So should this one."
   ]
  },
  {
   "cell_type": "markdown",
   "id": "a10ec456",
   "metadata": {},
   "source": [
    "## 1.2. Code cells\n",
    "Other cells contain code in the Python 3 language. Running a code cell will execute all of the code it contains.\n",
    "\n",
    "To run the code in a code cell, first click on that cell to activate it.  It'll be highlighted with a little green or blue rectangle.  Next, either press ▶| or hold down `shift` + `return`.\n",
    "\n",
    "Try running this cell:"
   ]
  },
  {
   "cell_type": "code",
   "execution_count": 3,
   "id": "07655dec",
   "metadata": {
    "execution": {
     "iopub.execute_input": "2022-01-17T06:53:19.564976Z",
     "iopub.status.busy": "2022-01-17T06:53:19.563956Z",
     "iopub.status.idle": "2022-01-17T06:53:19.568244Z",
     "shell.execute_reply": "2022-01-17T06:53:19.568750Z"
    }
   },
   "outputs": [],
   "source": [
    "print(\"Hello, World!\")"
   ]
  },
  {
   "cell_type": "markdown",
   "id": "70b77ae8",
   "metadata": {},
   "source": [
    "And this one:"
   ]
  },
  {
   "cell_type": "code",
   "execution_count": 4,
   "id": "f47596f1",
   "metadata": {
    "execution": {
     "iopub.execute_input": "2022-01-17T06:53:19.574410Z",
     "iopub.status.busy": "2022-01-17T06:53:19.573671Z",
     "iopub.status.idle": "2022-01-17T06:53:19.577789Z",
     "shell.execute_reply": "2022-01-17T06:53:19.577099Z"
    }
   },
   "outputs": [],
   "source": [
    "print(\"\\N{WAVING HAND SIGN}, \\N{EARTH GLOBE ASIA-AUSTRALIA}!\")"
   ]
  },
  {
   "cell_type": "markdown",
   "id": "dec2eb2c",
   "metadata": {},
   "source": [
    "The fundamental building block of Python code is an expression. Cells can contain multiple lines with multiple expressions. When you run a cell, the lines of code are executed in the order in which they appear. Every `print` expression prints a line. Run the next cell and notice the order of the output."
   ]
  },
  {
   "cell_type": "code",
   "execution_count": 5,
   "id": "83154cdc",
   "metadata": {
    "deletable": false,
    "execution": {
     "iopub.execute_input": "2022-01-17T06:53:19.583161Z",
     "iopub.status.busy": "2022-01-17T06:53:19.580990Z",
     "iopub.status.idle": "2022-01-17T06:53:19.587019Z",
     "shell.execute_reply": "2022-01-17T06:53:19.586104Z"
    }
   },
   "outputs": [],
   "source": [
    "print(\"First this line is printed,\")\n",
    "print(\"and then this one.\")"
   ]
  },
  {
   "cell_type": "markdown",
   "id": "f76bf5bd",
   "metadata": {},
   "source": [
    "**Question 1.2.1.** Change the cell above so that it prints out:\n",
    "\n",
    "    First this line,\n",
    "    then the whole 🌏,\n",
    "    and then this one.\n",
    "\n",
    "*Hint:* If you're stuck on the Earth symbol for more than a few minutes, try talking to a neighbor or a staff member. That's a good idea for any lab problem."
   ]
  },
  {
   "cell_type": "markdown",
   "id": "f0382ca2",
   "metadata": {},
   "source": [
    "## 1.3. Writing Jupyter notebooks\n",
    "You can use Jupyter notebooks for your own projects or documents.  When you make your own notebook, you'll need to create your own cells for text and code.\n",
    "\n",
    "To add a cell, click the + button in the menu bar.  It'll start out as a text cell.  You can change it to a code cell by clicking inside it so it's highlighted, clicking the drop-down box next to the restart (⟳) button in the menu bar, and choosing \"Code\".\n",
    "\n",
    "**Question 1.3.1.** Add a code cell below this one.  Write code in it that prints out:\n",
    "   \n",
    "    A whole new cell! ♪🌏♪\n",
    "\n",
    "(That musical note symbol is like the Earth symbol.  Its long-form name is `\\N{EIGHTH NOTE}`.)\n",
    "\n",
    "Run your cell to verify that it works."
   ]
  },
  {
   "cell_type": "markdown",
   "id": "bbeb944e",
   "metadata": {},
   "source": [
    "## 1.4. Errors\n",
    "Python is a language, and like natural human languages, it has rules.  It differs from natural language in two important ways:\n",
    "1. The rules are *simple*.  You can learn most of them in a few weeks and gain reasonable proficiency with the language in a semester.\n",
    "2. The rules are *rigid*.  If you're proficient in a natural language, you can understand a non-proficient speaker, glossing over small mistakes.  A computer running Python code is not smart enough to do that.\n",
    "\n",
    "Whenever you write code, you'll make mistakes.  When you run a code cell that has errors, Python will sometimes produce error messages to tell you what you did wrong.\n",
    "\n",
    "Errors are okay; even experienced programmers make many errors.  When you make an error, you just have to find the source of the problem, fix it, and move on.\n",
    "\n",
    "We’ve developed a custom error feedback software to help you better understand error messages. Run the next cell to import the package; nothing should output."
   ]
  },
  {
   "cell_type": "code",
   "execution_count": 6,
   "id": "c5e7cd1d",
   "metadata": {
    "execution": {
     "iopub.execute_input": "2022-01-17T06:53:19.592824Z",
     "iopub.status.busy": "2022-01-17T06:53:19.592092Z",
     "iopub.status.idle": "2022-01-17T06:53:19.675327Z",
     "shell.execute_reply": "2022-01-17T06:53:19.674586Z"
    }
   },
   "outputs": [],
   "source": [
    "import d8error"
   ]
  },
  {
   "cell_type": "markdown",
   "id": "8683aa16",
   "metadata": {},
   "source": [
    "We have made an error in the next cell.  Run it and see what happens."
   ]
  },
  {
   "cell_type": "code",
   "execution_count": 7,
   "id": "2a7e43dc",
   "metadata": {
    "deletable": false,
    "execution": {
     "iopub.execute_input": "2022-01-17T06:53:19.679889Z",
     "iopub.status.busy": "2022-01-17T06:53:19.679148Z",
     "iopub.status.idle": "2022-01-17T06:53:19.783949Z",
     "shell.execute_reply": "2022-01-17T06:53:19.773599Z"
    },
    "tags": [
     "raises-exception"
    ]
   },
   "outputs": [],
   "source": [
    "print(\"This line is missing something.\""
   ]
  },
  {
   "cell_type": "markdown",
   "id": "cd4d153f",
   "metadata": {},
   "source": [
    "**Note:** In the toolbar, there is the option to click `Cell > Run All`, which will run all the code cells in this notebook in order. However, the notebook stops running code cells if it hits an error, like the one in the cell above."
   ]
  },
  {
   "cell_type": "markdown",
   "id": "2604c4c3",
   "metadata": {},
   "source": [
    "You should see something like this (minus our annotations):\n",
    "\n",
    "<img src=\"error.jpg\"/>\n",
    "\n",
    "The last line of the error output attempts to tell you what went wrong.  The *syntax* of a language is its structure, and this `SyntaxError` tells you that you have created an illegal structure.  \"`EOF`\" means \"end of file,\" so the message is saying Python expected you to write something more (in this case, a right parenthesis) before finishing the cell.\n",
    "\n",
    "There's a lot of terminology in programming languages, but you don't need to know it all in order to program effectively. If you see a cryptic message like this, you can often get by without deciphering it.  (Of course, if you're frustrated, ask a neighbor or a staff member for help.) However, our D8 error package helps explain any python errors and exceptions and their common causes, as well as resources to reference for additional help. In the example above, we see that one source of a `SyntaxError` has to do with parentheses. \n",
    "\n",
    "\n",
    "Try to fix the code above so that you can run the cell and see the intended message instead of an error."
   ]
  },
  {
   "cell_type": "markdown",
   "id": "9883cf54",
   "metadata": {},
   "source": [
    "## 1.5. The Kernel\n",
    "The kernel is a program that executes the code inside your notebook and outputs the results. In the top right of your window, you can see a circle that indicates the status of your kernel. If the circle is empty (⚪), the kernel is idle and ready to execute code. If the circle is filled in (⚫), the kernel is busy running some code. \n",
    "\n",
    "Next to every code cell, you'll see some text that says `[ ]`. Before you run the cell, you'll see `[ ]`. When the cell is running, you'll see `[*]`. If you see an asterisk (\\*) next to a cell that doesn't go away, it's likely that the code inside the cell is taking too long to run, and it might be a good time to interrupt the kernel (discussed below). When a cell is finished running, you'll see a number inside the brackets, like so: `[1]`. The number corresponds to the order in which you run the cells; so, the first cell you run will show a 1 when it's finished running, the second will show a 2, and so on. \n",
    "\n",
    "You may run into problems where your kernel is stuck for an excessive amount of time, your notebook is very slow and unresponsive, or your kernel loses its connection. If this happens, try the following steps:\n",
    "1. At the top of your screen, click **Kernel**, then **Interrupt**.\n",
    "2. If that doesn't help, click **Kernel**, then **Restart**. If you do this, you will have to run your code cells from the start of your notebook up until where you paused your work.\n",
    "3. If that doesn't help, restart your server. First, save your work by clicking **File** at the top left of your screen, then **Save and Checkpoint**. Next, click **Control Panel** at the top right. Choose **Stop My Server** to shut it down, then **Start My Server** to start it back up. Then, navigate back to the notebook you were working on. You'll still have to run your code cells again."
   ]
  },
  {
   "cell_type": "markdown",
   "id": "a635e964",
   "metadata": {},
   "source": [
    "## 1.6. Submitting Your Work\n",
    "All assignments in the course will be distributed as notebooks like this one, and you will submit your work from the notebook. We will use a system called Otter Grader and Gradescope to check your work and help you submit. If you haven’t already, make sure you have run the cell at the top of this notebook to initialize OtterGrader."
   ]
  },
  {
   "cell_type": "markdown",
   "id": "5aa73ed1",
   "metadata": {},
   "source": [
    "Watch the following video to see how to submit an assignment! **Please disgregard the content after the 4:06 mark. The lab grading schema mentioned in the video was only relevant for a previous semester.**\n",
    "\n",
    "[Video](https://drive.google.com/file/d/1c8bjnz-gMXwbjHGr8IfuJxjQUGDyONRw/view?usp=sharing)"
   ]
  },
  {
   "cell_type": "markdown",
   "id": "3c38ff2c",
   "metadata": {},
   "source": [
    "## 1.7. Lab Attendance Checkoff\n",
    "\n",
    "Each week’s lab notebook will have a question that you will need to explain to a TA or AI in order to record lab attendance. After watching the above video on how to submit to Gradescope, please let an AI or GSI know you are ready for checkoff on [lab.data8.org](https://lab.data8.org/), and be prepared to **briefly explain the assignment submission process**. Let them know if you have any questions on any of the policies!\n"
   ]
  },
  {
   "cell_type": "markdown",
   "id": "8f06f6e0",
   "metadata": {},
   "source": [
    "# 2. Numbers\n",
    "\n",
    "Quantitative information arises everywhere in data science. In addition to representing commands to print out lines, expressions can represent numbers and methods of combining numbers. The expression `3.2500` evaluates to the number 3.25. (Run the cell and see.)"
   ]
  },
  {
   "cell_type": "code",
   "execution_count": 8,
   "id": "c40df4a3",
   "metadata": {
    "execution": {
     "iopub.execute_input": "2022-01-17T06:53:19.790938Z",
     "iopub.status.busy": "2022-01-17T06:53:19.790024Z",
     "iopub.status.idle": "2022-01-17T06:53:19.794510Z",
     "shell.execute_reply": "2022-01-17T06:53:19.793930Z"
    }
   },
   "outputs": [],
   "source": [
    "3.2500"
   ]
  },
  {
   "cell_type": "markdown",
   "id": "e1bf084b",
   "metadata": {},
   "source": [
    "Notice that we didn't have to `print`. When you run a notebook cell, if the last line has a value, then Jupyter helpfully prints out that value for you. However, it won't print out prior lines automatically."
   ]
  },
  {
   "cell_type": "code",
   "execution_count": 9,
   "id": "09d0a0ac",
   "metadata": {
    "execution": {
     "iopub.execute_input": "2022-01-17T06:53:19.829407Z",
     "iopub.status.busy": "2022-01-17T06:53:19.828291Z",
     "iopub.status.idle": "2022-01-17T06:53:19.832784Z",
     "shell.execute_reply": "2022-01-17T06:53:19.830098Z"
    },
    "tags": []
   },
   "outputs": [],
   "source": [
    "print(2)\n",
    "3\n",
    "4"
   ]
  },
  {
   "cell_type": "markdown",
   "id": "15e3b321",
   "metadata": {},
   "source": [
    "Above, you should see that 4 is the value of the last expression, 2 is printed, but 3 is lost forever because it was neither printed nor last.\n",
    "\n",
    "You don't want to print everything all the time anyway.  But if you feel sorry for 3, change the cell above to print it."
   ]
  },
  {
   "cell_type": "markdown",
   "id": "add767e8",
   "metadata": {},
   "source": [
    "## 2.1. Arithmetic\n",
    "The line in the next cell subtracts.  Its value is what you'd expect.  Run it."
   ]
  },
  {
   "cell_type": "code",
   "execution_count": 10,
   "id": "edb104d3",
   "metadata": {
    "execution": {
     "iopub.execute_input": "2022-01-17T06:53:19.839342Z",
     "iopub.status.busy": "2022-01-17T06:53:19.838355Z",
     "iopub.status.idle": "2022-01-17T06:53:19.842249Z",
     "shell.execute_reply": "2022-01-17T06:53:19.842776Z"
    }
   },
   "outputs": [],
   "source": [
    "3.25 - 1.5"
   ]
  },
  {
   "cell_type": "markdown",
   "id": "ac5261c2",
   "metadata": {},
   "source": [
    "Many basic arithmetic operations are built into Python.  The textbook section on [Expressions](http://www.inferentialthinking.com/chapters/03/1/Expressions.html) describes all the arithmetic operators used in the course.  The common operator that differs from typical math notation is `**`, which raises one number to the power of the other. So, `2**3` stands for $2^3$ and evaluates to 8. \n",
    "\n",
    "The order of operations is the same as what you learned in elementary school, and Python also has parentheses.  For example, compare the outputs of the cells below. The second cell uses parentheses for a happy new year!"
   ]
  },
  {
   "cell_type": "code",
   "execution_count": 11,
   "id": "9e39f59e",
   "metadata": {
    "execution": {
     "iopub.execute_input": "2022-01-17T06:53:19.849491Z",
     "iopub.status.busy": "2022-01-17T06:53:19.848650Z",
     "iopub.status.idle": "2022-01-17T06:53:19.853068Z",
     "shell.execute_reply": "2022-01-17T06:53:19.852398Z"
    }
   },
   "outputs": [],
   "source": [
    "6+6*5-6*3**2*2**3/4*7"
   ]
  },
  {
   "cell_type": "code",
   "execution_count": 12,
   "id": "7e9c20b0",
   "metadata": {
    "execution": {
     "iopub.execute_input": "2022-01-17T06:53:19.858816Z",
     "iopub.status.busy": "2022-01-17T06:53:19.857938Z",
     "iopub.status.idle": "2022-01-17T06:53:19.862040Z",
     "shell.execute_reply": "2022-01-17T06:53:19.862561Z"
    }
   },
   "outputs": [],
   "source": [
    "6+(6*5-(6*3))**2*((2**3)/4*7)"
   ]
  },
  {
   "cell_type": "markdown",
   "id": "96589ed4",
   "metadata": {},
   "source": [
    "In standard math notation, the first expression is\n",
    "\n",
    "$$6 + 6 \\times 5 - 6 \\times 3^2 \\times \\frac{2^3}{4} \\times 7,$$\n",
    "\n",
    "while the second expression is\n",
    "\n",
    "$$6 + (6 \\times 5 - (6 \\times 3))^2 \\times \\left(\\frac{\\left(2^3\\right)}{4} \\times 7\\right).$$\n",
    "\n",
    "**Question 2.1.1.** Write a Python expression in this next cell that's equal to $\\displaystyle 5 \\times \\left(3 \\frac{10}{11}\\right) - 50 \\frac{1}{3} + 2^{.5 \\times 22} - \\frac{7}{33} + 4$.  That's five times three and ten elevenths, minus fifty and a third, plus two to the power of half twenty-two, minus seven thirty-thirds plus four.  By \"$\\displaystyle 3 \\frac{10}{11}$\" we mean $\\displaystyle 3+\\frac{10}{11}$, not $\\displaystyle 3 \\times \\frac{10}{11}$.\n",
    "\n",
    "Replace the ellipses (`...`) with your expression.  Try to use parentheses only when necessary.\n",
    "\n",
    "*Hint:* The correct output should start with a familiar number."
   ]
  },
  {
   "cell_type": "code",
   "execution_count": 13,
   "id": "9bfe9b93",
   "metadata": {
    "deletable": false,
    "execution": {
     "iopub.execute_input": "2022-01-17T06:53:19.868788Z",
     "iopub.status.busy": "2022-01-17T06:53:19.867943Z",
     "iopub.status.idle": "2022-01-17T06:53:19.872174Z",
     "shell.execute_reply": "2022-01-17T06:53:19.871585Z"
    }
   },
   "outputs": [],
   "source": [
    "..."
   ]
  },
  {
   "cell_type": "markdown",
   "id": "cbda8c41",
   "metadata": {},
   "source": [
    "# 3. Names\n",
    "In natural language, we have terminology that lets us quickly reference very complicated concepts.  We don't say, \"That's a large mammal with brown fur and sharp teeth!\"  Instead, we just say, \"Bear!\"\n",
    "\n",
    "In Python, we do this with *assignment statements*. An assignment statement has a name on the left side of an `=` sign and an expression to be evaluated on the right."
   ]
  },
  {
   "cell_type": "code",
   "execution_count": 14,
   "id": "f2f10caa",
   "metadata": {
    "execution": {
     "iopub.execute_input": "2022-01-17T06:53:19.877820Z",
     "iopub.status.busy": "2022-01-17T06:53:19.876787Z",
     "iopub.status.idle": "2022-01-17T06:53:19.879213Z",
     "shell.execute_reply": "2022-01-17T06:53:19.879829Z"
    }
   },
   "outputs": [],
   "source": [
    "ten = 3 * 2 + 4"
   ]
  },
  {
   "cell_type": "markdown",
   "id": "0f5b8be9",
   "metadata": {},
   "source": [
    "When you run that cell, Python first computes the value of the expression on the right-hand side, `3 * 2 + 4`, which is the number 10.  Then it assigns that value to the name `ten`.  At that point, the code in the cell is done running.\n",
    "\n",
    "After you run that cell, the value 10 is bound to the name `ten`:"
   ]
  },
  {
   "cell_type": "code",
   "execution_count": 15,
   "id": "860e9e02",
   "metadata": {
    "execution": {
     "iopub.execute_input": "2022-01-17T06:53:19.885564Z",
     "iopub.status.busy": "2022-01-17T06:53:19.884636Z",
     "iopub.status.idle": "2022-01-17T06:53:19.889157Z",
     "shell.execute_reply": "2022-01-17T06:53:19.888553Z"
    }
   },
   "outputs": [],
   "source": [
    "ten"
   ]
  },
  {
   "cell_type": "markdown",
   "id": "fb7f97dc",
   "metadata": {},
   "source": [
    "The statement `ten = 3 * 2 + 4` is not asserting that `ten` is already equal to `3 * 2 + 4`, as we might expect by analogy with math notation.  Rather, that line of code changes what `ten` means; it now refers to the value 10, whereas before it meant nothing at all.\n",
    "\n",
    "If the designers of Python had been ruthlessly pedantic, they might have made us write\n",
    "\n",
    "    define the name ten to hereafter have the value of 3 * 2 + 4 \n",
    "\n",
    "instead.  You will probably appreciate the brevity of \"`=`\"!  But keep in mind that this is the real meaning.\n",
    "\n",
    "**Question 3.1.** Run the following cell which uses a variable name `eleven` that hasn't been assigned to anything. You'll see an error!"
   ]
  },
  {
   "cell_type": "code",
   "execution_count": 16,
   "id": "1c1e1437",
   "metadata": {
    "execution": {
     "iopub.execute_input": "2022-01-17T06:53:19.932548Z",
     "iopub.status.busy": "2022-01-17T06:53:19.931706Z",
     "iopub.status.idle": "2022-01-17T06:53:20.095892Z",
     "shell.execute_reply": "2022-01-17T06:53:20.095242Z"
    },
    "tags": [
     "raises-exception"
    ]
   },
   "outputs": [],
   "source": [
    "eleven + 8"
   ]
  },
  {
   "cell_type": "markdown",
   "id": "a786194d",
   "metadata": {},
   "source": [
    "A common pattern in Jupyter notebooks is to assign a value to a name and then immediately evaluate the name in the last line in the cell so that the value is displayed as output. "
   ]
  },
  {
   "cell_type": "code",
   "execution_count": 17,
   "id": "539d13c1",
   "metadata": {
    "execution": {
     "iopub.execute_input": "2022-01-17T06:53:20.101545Z",
     "iopub.status.busy": "2022-01-17T06:53:20.100875Z",
     "iopub.status.idle": "2022-01-17T06:53:20.129071Z",
     "shell.execute_reply": "2022-01-17T06:53:20.104755Z"
    }
   },
   "outputs": [],
   "source": [
    "close_to_pi = 355/113\n",
    "close_to_pi"
   ]
  },
  {
   "cell_type": "markdown",
   "id": "ef95fe3e",
   "metadata": {},
   "source": [
    "Another common pattern is that a series of lines in a single cell will build up a complex computation in stages, naming the intermediate results."
   ]
  },
  {
   "cell_type": "code",
   "execution_count": 18,
   "id": "b380a83e",
   "metadata": {
    "execution": {
     "iopub.execute_input": "2022-01-17T06:53:20.136497Z",
     "iopub.status.busy": "2022-01-17T06:53:20.135858Z",
     "iopub.status.idle": "2022-01-17T06:53:20.140283Z",
     "shell.execute_reply": "2022-01-17T06:53:20.139773Z"
    }
   },
   "outputs": [],
   "source": [
    "semimonthly_salary = 842.5\n",
    "monthly_salary = 2 * semimonthly_salary\n",
    "number_of_months_in_a_year = 12\n",
    "yearly_salary = number_of_months_in_a_year * monthly_salary\n",
    "yearly_salary"
   ]
  },
  {
   "cell_type": "markdown",
   "id": "1f996168",
   "metadata": {},
   "source": [
    "Names in Python can have letters (upper- and lower-case letters are both okay and count as different letters), underscores, and numbers.  The first character can't be a number (otherwise a name might look like a number).  And names can't contain spaces, since spaces are used to separate pieces of code from each other.\n",
    "\n",
    "Other than those rules, what you name something doesn't matter *to Python*.  For example, this cell does the same thing as the above cell, except everything has a different name:"
   ]
  },
  {
   "cell_type": "code",
   "execution_count": 19,
   "id": "02391723",
   "metadata": {
    "execution": {
     "iopub.execute_input": "2022-01-17T06:53:20.146062Z",
     "iopub.status.busy": "2022-01-17T06:53:20.145312Z",
     "iopub.status.idle": "2022-01-17T06:53:20.149380Z",
     "shell.execute_reply": "2022-01-17T06:53:20.148918Z"
    }
   },
   "outputs": [],
   "source": [
    "a = 842.5\n",
    "b = 2 * a\n",
    "c = 12\n",
    "d = c * b\n",
    "d"
   ]
  },
  {
   "cell_type": "markdown",
   "id": "db8a11c3",
   "metadata": {},
   "source": [
    "**However**, names are very important for making your code *readable* to yourself and others.  The cell above is shorter, but it's totally useless without an explanation of what it does."
   ]
  },
  {
   "cell_type": "markdown",
   "id": "14914136",
   "metadata": {},
   "source": [
    "## 3.1. Checking Your Code\n",
    "Now that you know how to name things, you can start using the built-in *tests* to check whether your work is correct. Sometimes, there are multiple tests for a single question, and passing all of them is required to receive credit for the question. Please don't change the contents of the test cells. \n",
    "\n",
    "Go ahead and attempt Question 3.1.2. Running the cell directly after it will test whether you have assigned `seconds_in_a_decade` correctly in Question 3.1.2. If you haven't, this test will tell you the correct answer. Resist the urge to just copy it, and instead try to adjust your expression. (Sometimes the tests will give hints about what went wrong...)"
   ]
  },
  {
   "cell_type": "markdown",
   "id": "5908e754",
   "metadata": {
    "deletable": false,
    "editable": false
   },
   "source": [
    "**Question 3.1.2.** Assign the name `seconds_in_a_decade` to the number of seconds between midnight January 1, 2010 and midnight January 1, 2020. Note that there are two leap years in this span of a decade. A non-leap year has 365 days and a leap year has 366 days.\n",
    "\n",
    "*Hint:* If you're stuck, the next section shows you how to get hints.\n",
    "\n",
    "<!--\n",
    "BEGIN QUESTION\n",
    "name: q3_1_2\n",
    "-->"
   ]
  },
  {
   "cell_type": "code",
   "execution_count": 20,
   "id": "822d0b0c",
   "metadata": {
    "deletable": false,
    "execution": {
     "iopub.execute_input": "2022-01-17T06:53:20.155105Z",
     "iopub.status.busy": "2022-01-17T06:53:20.154407Z",
     "iopub.status.idle": "2022-01-17T06:53:20.158546Z",
     "shell.execute_reply": "2022-01-17T06:53:20.158992Z"
    }
   },
   "outputs": [],
   "source": [
    "# Change the next line \n",
    "# so that it computes the number of seconds in a decade \n",
    "# and assigns that number the name, seconds_in_a_decade.\n",
    "\n",
    "seconds_in_a_decade = ...\n",
    "\n",
    "# We've put this line in this cell \n",
    "# so that it will print the value you've given to seconds_in_a_decade when you run it.  \n",
    "# You don't need to change this.\n",
    "seconds_in_a_decade"
   ]
  },
  {
   "cell_type": "code",
   "execution_count": null,
   "id": "397a7c6e",
   "metadata": {
    "deletable": false,
    "editable": false
   },
   "outputs": [],
   "source": [
    "grader.check(\"q3_1_2\")"
   ]
  },
  {
   "cell_type": "markdown",
   "id": "2a72a2ef",
   "metadata": {},
   "source": [
    "# 3.2. Comments\n",
    "You may have noticed these lines in the cell in which you answered Question 3.2:\n",
    "\n",
    "    # Change the next line \n",
    "    # so that it computes the number of seconds in a decade \n",
    "    # and assigns that number the name, seconds_in_a_decade.\n",
    "    \n",
    "This is called a *comment*. It doesn't make anything happen in Python; Python ignores anything on a line after a `#`.  Instead, it's there to communicate something about the code to you, the human reader. Comments are extremely useful. \n",
    "\n",
    "<img src=\"http://imgs.xkcd.com/comics/future_self.png\">\n",
    "Source: http://imgs.xkcd.com/comics/future_self.png"
   ]
  },
  {
   "cell_type": "markdown",
   "id": "4e6342cb",
   "metadata": {},
   "source": [
    "## 3.3. Application: A Physics Experiment\n",
    "\n",
    "On the Apollo 15 mission to the Moon, astronaut David Scott famously replicated Galileo's physics experiment in which he showed that gravity accelerates objects of different mass at the same rate. Because there is no air resistance for a falling object on the surface of the Moon, even two objects with very different masses and densities should fall at the same rate. David Scott compared a feather and a hammer.\n",
    "\n",
    "You can run the following cell to watch a video of the experiment."
   ]
  },
  {
   "cell_type": "code",
   "execution_count": 25,
   "id": "4c58e954",
   "metadata": {
    "execution": {
     "iopub.execute_input": "2022-01-17T06:53:20.240398Z",
     "iopub.status.busy": "2022-01-17T06:53:20.239813Z",
     "iopub.status.idle": "2022-01-17T06:53:20.301723Z",
     "shell.execute_reply": "2022-01-17T06:53:20.301214Z"
    }
   },
   "outputs": [],
   "source": [
    "from IPython.display import YouTubeVideo\n",
    "# The original URL is: \n",
    "# https://www.youtube.com/watch?v=U7db6ZeLR5s\n",
    "\n",
    "YouTubeVideo(\"U7db6ZeLR5s\")"
   ]
  },
  {
   "cell_type": "markdown",
   "id": "02953b33",
   "metadata": {},
   "source": [
    "Here's the transcript of the video:\n",
    "\n",
    "**167:22:06 Scott**: Well, in my left hand, I have a feather; in my right hand, a hammer. And I guess one of the reasons we got here today was because of a gentleman named Galileo, a long time ago, who made a rather significant discovery about falling objects in gravity fields. And we thought where would be a better place to confirm his findings than on the Moon. And so we thought we'd try it here for you. The feather happens to be, appropriately, a falcon feather for our Falcon. And I'll drop the two of them here and, hopefully, they'll hit the ground at the same time. \n",
    "\n",
    "**167:22:43 Scott**: How about that!\n",
    "\n",
    "**167:22:45 Allen**: How about that! (Applause in Houston)\n",
    "\n",
    "**167:22:46 Scott**: Which proves that Mr. Galileo was correct in his findings."
   ]
  },
  {
   "cell_type": "markdown",
   "id": "6a57a1f3",
   "metadata": {},
   "source": [
    "**Newton's Law.** Using this footage, we can also attempt to confirm another famous bit of physics: Newton's law of universal gravitation. Newton's laws predict that any object dropped near the surface of the Moon should fall\n",
    "\n",
    "$$\\frac{1}{2} G \\frac{M}{R^2} t^2 \\text{ meters}$$\n",
    "\n",
    "after $t$ seconds, where $G$ is a universal constant, $M$ is the moon's mass in kilograms, and $R$ is the moon's radius in meters.  So if we know $G$, $M$, and $R$, then Newton's laws let us predict how far an object will fall over any amount of time.\n",
    "\n",
    "To verify the accuracy of this law, we will calculate the difference between the predicted distance the hammer drops and the actual distance.  (If they are different, it might be because Newton's laws are wrong, or because our measurements are imprecise, or because there are other factors affecting the hammer for which we haven't accounted.)\n",
    "\n",
    "Someone studied the video and estimated that the hammer was dropped 113 cm from the surface. Counting frames in the video, the hammer falls for 1.2 seconds (36 frames)."
   ]
  },
  {
   "cell_type": "markdown",
   "id": "42d58a6c",
   "metadata": {
    "deletable": false,
    "editable": false
   },
   "source": [
    "**Question 3.3.1.** Complete the code in the next cell to fill in the data from the experiment.\n",
    "\n",
    "*Hint:* No computation required; just fill in data from the paragraph above.\n",
    "\n",
    "<!--\n",
    "BEGIN QUESTION\n",
    "name: q3_3_1\n",
    "-->"
   ]
  },
  {
   "cell_type": "code",
   "execution_count": 26,
   "id": "ceb38f6b",
   "metadata": {
    "deletable": false,
    "execution": {
     "iopub.execute_input": "2022-01-17T06:53:20.306809Z",
     "iopub.status.busy": "2022-01-17T06:53:20.306127Z",
     "iopub.status.idle": "2022-01-17T06:53:20.309391Z",
     "shell.execute_reply": "2022-01-17T06:53:20.308792Z"
    }
   },
   "outputs": [],
   "source": [
    "# t, the duration of the fall in the experiment, in seconds.\n",
    "# Fill this in.\n",
    "time = ...\n",
    "\n",
    "# The estimated distance the hammer actually fell, in meters.\n",
    "# Fill this in.\n",
    "estimated_distance_m = ..."
   ]
  },
  {
   "cell_type": "code",
   "execution_count": null,
   "id": "41fc8168",
   "metadata": {
    "deletable": false,
    "editable": false
   },
   "outputs": [],
   "source": [
    "grader.check(\"q3_3_1\")"
   ]
  },
  {
   "cell_type": "markdown",
   "id": "d87e497c",
   "metadata": {
    "deletable": false,
    "editable": false
   },
   "source": [
    "**Question 3.3.2.** Now, complete the code in the next cell to compute the difference between the predicted and estimated distances (in meters) that the hammer fell in this experiment.\n",
    "\n",
    "This just means translating the formula above ($\\frac{1}{2}G\\frac{M}{R^2}t^2$) into Python code.  You'll have to replace each variable in the math formula with the name we gave that number in Python code.\n",
    "\n",
    "*Hint:* Try to use variables you've already defined in question 3.3.1\n",
    "\n",
    "<!--\n",
    "BEGIN QUESTION\n",
    "name: q3_3_2\n",
    "-->"
   ]
  },
  {
   "cell_type": "code",
   "execution_count": 32,
   "id": "82b8393a",
   "metadata": {
    "deletable": false,
    "execution": {
     "iopub.execute_input": "2022-01-17T06:53:20.363593Z",
     "iopub.status.busy": "2022-01-17T06:53:20.362661Z",
     "iopub.status.idle": "2022-01-17T06:53:20.367355Z",
     "shell.execute_reply": "2022-01-17T06:53:20.366863Z"
    }
   },
   "outputs": [],
   "source": [
    "# First, we've written down the values of the 3 universal constants \n",
    "# that show up in Newton's formula.\n",
    "\n",
    "# G, the universal constant measuring the strength of gravity.\n",
    "gravity_constant = 6.674 * 10**-11\n",
    "\n",
    "# M, the moon's mass, in kilograms.\n",
    "moon_mass_kg = 7.34767309 * 10**22\n",
    "\n",
    "# R, the radius of the moon, in meters.\n",
    "moon_radius_m = 1.737 * 10**6\n",
    "\n",
    "# The distance the hammer should have fallen \n",
    "# over the duration of the fall, in meters, \n",
    "# according to Newton's law of gravity.  \n",
    "# The text above describes the formula\n",
    "# for this distance given by Newton's law.\n",
    "# **YOU FILL THIS PART IN.**\n",
    "predicted_distance_m = ...\n",
    "\n",
    "# Here we've computed the difference \n",
    "# between the predicted fall distance and the distance we actually measured.\n",
    "# If you've filled in the above code, this should just work.\n",
    "difference = predicted_distance_m - estimated_distance_m\n",
    "difference"
   ]
  },
  {
   "cell_type": "code",
   "execution_count": null,
   "id": "643cf30e",
   "metadata": {
    "deletable": false,
    "editable": false
   },
   "outputs": [],
   "source": [
    "grader.check(\"q3_3_2\")"
   ]
  },
  {
   "cell_type": "markdown",
   "id": "07c49a4e",
   "metadata": {},
   "source": [
    "## 4. Calling Functions\n",
    "\n",
    "The most common way to combine or manipulate values in Python is by calling functions. Python comes with many built-in functions that perform common operations.\n",
    "\n",
    "For example, the `abs` function takes a single number as its argument and returns the absolute value of that number. Run the next two cells and see if you understand the output."
   ]
  },
  {
   "cell_type": "code",
   "execution_count": 36,
   "id": "5093ded1",
   "metadata": {
    "execution": {
     "iopub.execute_input": "2022-01-17T06:53:20.439137Z",
     "iopub.status.busy": "2022-01-17T06:53:20.438476Z",
     "iopub.status.idle": "2022-01-17T06:53:20.442247Z",
     "shell.execute_reply": "2022-01-17T06:53:20.442796Z"
    }
   },
   "outputs": [],
   "source": [
    "abs(5)"
   ]
  },
  {
   "cell_type": "code",
   "execution_count": 37,
   "id": "d28499d1",
   "metadata": {
    "execution": {
     "iopub.execute_input": "2022-01-17T06:53:20.448490Z",
     "iopub.status.busy": "2022-01-17T06:53:20.447826Z",
     "iopub.status.idle": "2022-01-17T06:53:20.451664Z",
     "shell.execute_reply": "2022-01-17T06:53:20.452178Z"
    }
   },
   "outputs": [],
   "source": [
    "abs(-5)"
   ]
  },
  {
   "cell_type": "markdown",
   "id": "f70c98f1",
   "metadata": {
    "deletable": false,
    "editable": false
   },
   "source": [
    "## 4.1. Application: Computing Walking Distances\n",
    "Chunhua is on the corner of 7th Avenue and 42nd Street in Midtown Manhattan, and she wants to know far she'd have to walk to get to Gramercy School on the corner of 10th Avenue and 34th Street.\n",
    "\n",
    "She can't cut across blocks diagonally, since there are buildings in the way.  She has to walk along the sidewalks.  Using the map below, she sees she'd have to walk 3 avenues (long blocks) and 8 streets (short blocks).  In terms of the given numbers, she computed 3 as the difference between 7 and 10, *in absolute value*, and 8 similarly.  \n",
    "\n",
    "Chunhua also knows that blocks in Manhattan are all about 80m by 274m (avenues are farther apart than streets).  So in total, she'd have to walk $(80 \\times |42 - 34| + 274 \\times |7 - 10|)$ meters to get to the park.\n",
    "\n",
    "<img src=\"map.jpg\"/>\n",
    "\n",
    "**Question 4.1.1.** Fill in the line `num_avenues_away = ...` in the next cell so that the cell calculates the distance Chunhua must walk and gives it the name `manhattan_distance`.  Everything else has been filled in for you.  **Use the `abs` function.** Also, be sure to run the test cell afterward to test your code.\n",
    "\n",
    "<!--\n",
    "BEGIN QUESTION\n",
    "name: q4_1_1\n",
    "-->"
   ]
  },
  {
   "cell_type": "code",
   "execution_count": 38,
   "id": "93e45ade",
   "metadata": {
    "deletable": false,
    "execution": {
     "iopub.execute_input": "2022-01-17T06:53:20.458656Z",
     "iopub.status.busy": "2022-01-17T06:53:20.457992Z",
     "iopub.status.idle": "2022-01-17T06:53:20.462332Z",
     "shell.execute_reply": "2022-01-17T06:53:20.461738Z"
    }
   },
   "outputs": [],
   "source": [
    "# Here's the number of streets away:\n",
    "num_streets_away = abs(42-34)\n",
    "\n",
    "# Compute the number of avenues away in a similar way:\n",
    "num_avenues_away = ...\n",
    "\n",
    "street_length_m = 80\n",
    "avenue_length_m = 274\n",
    "\n",
    "# Now we compute the total distance Chunhua must walk.\n",
    "manhattan_distance = street_length_m*num_streets_away + avenue_length_m*num_avenues_away\n",
    "\n",
    "# We've included this line so that you see the distance you've computed \n",
    "# when you run this cell.  \n",
    "# You don't need to change it, but you can if you want.\n",
    "manhattan_distance"
   ]
  },
  {
   "cell_type": "code",
   "execution_count": null,
   "id": "2d62d380",
   "metadata": {
    "deletable": false,
    "editable": false
   },
   "outputs": [],
   "source": [
    "grader.check(\"q4_1_1\")"
   ]
  },
  {
   "cell_type": "markdown",
   "id": "cc5c03a9",
   "metadata": {},
   "source": [
    "##### Multiple arguments\n",
    "Some functions take multiple arguments, separated by commas. For example, the built-in `max` function returns the maximum argument passed to it."
   ]
  },
  {
   "cell_type": "code",
   "execution_count": 43,
   "id": "80ccdc7b",
   "metadata": {
    "execution": {
     "iopub.execute_input": "2022-01-17T06:53:20.540995Z",
     "iopub.status.busy": "2022-01-17T06:53:20.540286Z",
     "iopub.status.idle": "2022-01-17T06:53:20.543415Z",
     "shell.execute_reply": "2022-01-17T06:53:20.543928Z"
    }
   },
   "outputs": [],
   "source": [
    "max(2, -3, 4, -5)"
   ]
  },
  {
   "cell_type": "markdown",
   "id": "9c240e2c",
   "metadata": {},
   "source": [
    "# 5. Understanding Nested Expressions\n",
    "Function calls and arithmetic expressions can themselves contain expressions.  You saw an example in the last question:\n",
    "\n",
    "    abs(42-34)\n",
    "\n",
    "has 2 number expressions in a subtraction expression in a function call expression.  And you probably wrote something like `abs(7-10)` to compute `num_avenues_away`.\n",
    "\n",
    "Nested expressions can turn into complicated-looking code. However, the way in which complicated expressions break down is very regular.\n",
    "\n",
    "Suppose we are interested in lengths of cats that are very unusual.  We'll say that a length is unusual to the extent that it's far away on the number line from the average cat length.  [An estimate](http://press.endocrine.org/doi/full/10.1210/jcem.86.9.7875?ck=nck&) of the average cat length (averaging, we hope, over all cats on Earth today) is 18.2 inches.\n",
    "\n",
    "So if Ravioli is 21.7 inches long, then her length is $|21.7 - 18.2|$, or $3.5$, inches away from the average.  Here's a picture of that:\n",
    "\n",
    "<img src=\"cat_lengths.png\">\n",
    "\n",
    "And here's how we'd write that in one line of Python code:\n",
    "\n",
    "**Dataset Details:**\n",
    "- Origin: The source for average cat length is [Wikipedia](https://en.wikipedia.org/wiki/Cat#:~:text=The%20domestic%20cat%20has%20a,(9%20and%2011%20lb).). The listed lengths for cats are not real and may not be plausible (but the names are of real cats!)\n",
    "- Extra Context: None."
   ]
  },
  {
   "cell_type": "code",
   "execution_count": 44,
   "id": "c98b8b06",
   "metadata": {
    "execution": {
     "iopub.execute_input": "2022-01-17T06:53:20.549147Z",
     "iopub.status.busy": "2022-01-17T06:53:20.548609Z",
     "iopub.status.idle": "2022-01-17T06:53:20.552351Z",
     "shell.execute_reply": "2022-01-17T06:53:20.551915Z"
    }
   },
   "outputs": [],
   "source": [
    "abs(21.7 - 18.2)"
   ]
  },
  {
   "cell_type": "markdown",
   "id": "67b700c5",
   "metadata": {},
   "source": [
    "What's going on here?  `abs` takes just one argument, so the stuff inside the parentheses is all part of that *single argument*.  Specifically, the argument is the value of the expression `21.7 - 18.2`.  The value of that expression is `3.5`.  That value is the argument to `abs`.  The absolute value of that is `3.5`, so `3.5` is the value of the full expression `abs(21.7 - 18.2)`.\n",
    "\n",
    "Picture simplifying the expression in several steps:\n",
    "\n",
    "1. `abs(21.7 - 18.2)`\n",
    "2. `abs(3.5)`\n",
    "3. `3.5`\n",
    "\n",
    "In fact, that's basically what Python does to compute the value of the expression."
   ]
  },
  {
   "cell_type": "markdown",
   "id": "16450851",
   "metadata": {
    "deletable": false,
    "editable": false
   },
   "source": [
    "**Question 5.1.** Say that Genghis's length is 16.7 inches.  In the next cell, use `abs` to compute the absolute value of the difference between Genghis's length and the average cat length.  Give that value the name `genghis_distance_from_average_in`.\n",
    "\n",
    "<!--\n",
    "BEGIN QUESTION\n",
    "name: q51\n",
    "-->"
   ]
  },
  {
   "cell_type": "code",
   "execution_count": 45,
   "id": "a29b93a9",
   "metadata": {
    "deletable": false,
    "execution": {
     "iopub.execute_input": "2022-01-17T06:53:20.558689Z",
     "iopub.status.busy": "2022-01-17T06:53:20.557912Z",
     "iopub.status.idle": "2022-01-17T06:53:20.562684Z",
     "shell.execute_reply": "2022-01-17T06:53:20.561888Z"
    }
   },
   "outputs": [],
   "source": [
    "# Replace the ... with an expression \n",
    "# to compute the absolute value \n",
    "# of the difference between Genghis's length (16.7 in) and the average cat length.\n",
    "genghis_distance_from_average_in = ...\n",
    "\n",
    "# Again, we've written this here \n",
    "# so that the distance you compute will get printed \n",
    "# when you run this cell.\n",
    "genghis_distance_from_average_in"
   ]
  },
  {
   "cell_type": "code",
   "execution_count": null,
   "id": "f38633a6",
   "metadata": {
    "deletable": false,
    "editable": false
   },
   "outputs": [],
   "source": [
    "grader.check(\"q51\")"
   ]
  },
  {
   "cell_type": "markdown",
   "id": "5d65cb18",
   "metadata": {},
   "source": [
    "## 5.1. More Nesting\n",
    "Now say that we want to compute the more unusual of the two cat lengths.  We'll use the function `max`, which (again) takes two numbers as arguments and returns the larger of the two arguments.  Combining that with the `abs` function, we can compute the larger distance from average among the two length:"
   ]
  },
  {
   "cell_type": "code",
   "execution_count": 47,
   "id": "e51462e8",
   "metadata": {
    "execution": {
     "iopub.execute_input": "2022-01-17T06:53:20.578200Z",
     "iopub.status.busy": "2022-01-17T06:53:20.577627Z",
     "iopub.status.idle": "2022-01-17T06:53:20.581360Z",
     "shell.execute_reply": "2022-01-17T06:53:20.580842Z"
    }
   },
   "outputs": [],
   "source": [
    "# Just read and run this cell.\n",
    "\n",
    "ravioli_length_in = 21.7\n",
    "genghis_length_in = 16.7\n",
    "average_cat_length = 18.2\n",
    "\n",
    "# The larger distance from the average cat length, among the two length:\n",
    "larger_distance_in = max(abs(ravioli_length_in - average_cat_length), abs(genghis_length_in - average_cat_length))\n",
    "\n",
    "# Print out our results in a nice readable format:\n",
    "print(\"The larger distance from the average length among these two cats is\", larger_distance_in, \"inches.\")"
   ]
  },
  {
   "cell_type": "markdown",
   "id": "5c3eecaa",
   "metadata": {},
   "source": [
    "The line where `larger_distance_in` is computed looks complicated, but we can break it down into simpler components just like we did before.\n",
    "\n",
    "The basic recipe is to repeatedly simplify small parts of the expression:\n",
    "* **Basic expressions:** Start with expressions whose values we know, like names or numbers.\n",
    "    - Examples: `genghis_length_in` or `16.7`.\n",
    "* **Find the next simplest group of expressions:** Look for basic expressions that are directly connected to each other. This can be by arithmetic or as arguments to a function call. \n",
    "    - Example: `genghis_length_in - average_cat_length`.\n",
    "* **Evaluate that group:** Evaluate the arithmetic expression or function call. Use the value computed to replace the group of expressions.  \n",
    "    - Example: `genghis_length_in - average_cat_length` becomes `-1.3`.\n",
    "* **Repeat:** Continue this process, using the value of the previously-evaluated expression as a new basic expression. Stop when we've evaluated the entire expression.\n",
    "    - Example: `abs(-1.3)` becomes `1.3`, and `max(3.5, 1.3)` becomes `3.5`.\n",
    "\n",
    "You can run the next cell to see a slideshow of that process."
   ]
  },
  {
   "cell_type": "code",
   "execution_count": 48,
   "id": "634d3624",
   "metadata": {
    "execution": {
     "iopub.execute_input": "2022-01-17T06:53:20.587337Z",
     "iopub.status.busy": "2022-01-17T06:53:20.586549Z",
     "iopub.status.idle": "2022-01-17T06:53:20.591116Z",
     "shell.execute_reply": "2022-01-17T06:53:20.590565Z"
    }
   },
   "outputs": [],
   "source": [
    "from IPython.display import IFrame\n",
    "IFrame('https://docs.google.com/presentation/d/1g2J9ZkB2Tr_jUw45kiAgOPeC8QAE9thHFCEhqm6mHnM/embed?start=false&loop=false&delayms=3000', 800, 600)"
   ]
  },
  {
   "cell_type": "markdown",
   "id": "3ebc0a6b",
   "metadata": {
    "deletable": false,
    "editable": false
   },
   "source": [
    "Ok, your turn. \n",
    "\n",
    "**Question 5.1.1.** Given the lengths of Yanay's cats Hummus, Gatkes, and Zeepty, write an expression that computes the smallest difference between any of the three lengths. Your expression shouldn't have any numbers in it, only function calls and the names `hummus`, `gatkes`, and `zeepty`. Give the value of your expression the name `min_length_difference`.\n",
    "\n",
    "<!--\n",
    "BEGIN QUESTION\n",
    "name: q5_1_1\n",
    "-->"
   ]
  },
  {
   "cell_type": "code",
   "execution_count": 49,
   "id": "fba60b7d",
   "metadata": {
    "deletable": false,
    "execution": {
     "iopub.execute_input": "2022-01-17T06:53:20.631368Z",
     "iopub.status.busy": "2022-01-17T06:53:20.630728Z",
     "iopub.status.idle": "2022-01-17T06:53:20.633863Z",
     "shell.execute_reply": "2022-01-17T06:53:20.633180Z"
    }
   },
   "outputs": [],
   "source": [
    "# The three cats' lengths, in meters:\n",
    "hummus =  24.5 # Hummus is 24.5 inches long\n",
    "gatkes = 19.7 # Gatkes is 19.7 inches long\n",
    "zeepty = 15.8 # Zeepty is 15.8 inches long\n",
    "             \n",
    "# We'd like to look at all 3 pairs of lengths, \n",
    "# compute the absolute difference between each pair, \n",
    "# and then find the smallest of those 3 absolute differences.  \n",
    "# This is left to you!  \n",
    "# If you're stuck, try computing the value for each step of the process \n",
    "# (like the difference between Hummus's length and Gatkes's length) \n",
    "# on a separate line and giving it a name (like hummus_gatkes_length_diff)\n",
    "min_length_difference = ..."
   ]
  },
  {
   "cell_type": "code",
   "execution_count": null,
   "id": "fbf7a2fe",
   "metadata": {
    "deletable": false,
    "editable": false
   },
   "outputs": [],
   "source": [
    "grader.check(\"q5_1_1\")"
   ]
  },
  {
   "cell_type": "markdown",
   "id": "e6b401de",
   "metadata": {},
   "source": [
    "You're done with Lab 1! \n",
    "\n",
    "**Important submission information:** Be sure to run the tests and verify that they all pass, then choose **Save and Checkpoint** from the **File** menu, then **run the final cell** and click the link to download the zip file. Then, go to [Gradescope](https://www.gradescope.com/courses/288788) and submit the zip file to the corresponding assignment. The name of this assignment is \"Lab 01 Autograder\".\n",
    "\n",
    "Once you have submitted, your Gradescope assignment should look like the following image if you have passed all tests.\n",
    "\n",
    "<img src=\"gradescope.png\">\n",
    "\n",
    "\n",
    "Harley wanted to congratulate you and welcome you to Data 8!\n",
    "\n",
    "<img src=\"harley.png\" alt=\"drawing\" width=\"300\"/>\n"
   ]
  },
  {
   "cell_type": "markdown",
   "id": "74ace756",
   "metadata": {
    "deletable": false,
    "editable": false
   },
   "source": [
    "---\n",
    "\n",
    "To double-check your work, the cell below will rerun all of the autograder tests."
   ]
  },
  {
   "cell_type": "code",
   "execution_count": null,
   "id": "1731c5c8",
   "metadata": {
    "deletable": false,
    "editable": false
   },
   "outputs": [],
   "source": [
    "grader.check_all()"
   ]
  },
  {
   "cell_type": "markdown",
   "id": "06ff1e1f",
   "metadata": {
    "deletable": false,
    "editable": false
   },
   "source": [
    "## Submission\n",
    "\n",
    "Make sure you have run all cells in your notebook in order before running the cell below, so that all images/graphs appear in the output. The cell below will generate a zip file for you to submit. **Please save before exporting!**"
   ]
  },
  {
   "cell_type": "code",
   "execution_count": null,
   "id": "ef5bac45",
   "metadata": {
    "deletable": false,
    "editable": false
   },
   "outputs": [],
   "source": [
    "# Save your notebook first, then run this cell to export your submission.\n",
    "grader.export(pdf=False, force_save=True)"
   ]
  },
  {
   "cell_type": "markdown",
   "id": "703f9fa9",
   "metadata": {},
   "source": [
    " "
   ]
  }
 ],
 "metadata": {
  "kernelspec": {
   "display_name": "Python 3",
   "language": "python",
   "name": "python3"
  },
  "language_info": {
   "codemirror_mode": {
    "name": "ipython",
    "version": 3
   },
   "file_extension": ".py",
   "mimetype": "text/x-python",
   "name": "python",
   "nbconvert_exporter": "python",
   "pygments_lexer": "ipython3",
   "version": "3.9.7"
  },
  "widgets": {
   "application/vnd.jupyter.widget-state+json": {
    "state": {
     "0715336c3da848f79b0921593e043fe7": {
      "model_module": "@jupyter-widgets/controls",
      "model_module_version": "1.5.0",
      "model_name": "AccordionModel",
      "state": {
       "_dom_classes": [],
       "_model_module": "@jupyter-widgets/controls",
       "_model_module_version": "1.5.0",
       "_model_name": "AccordionModel",
       "_titles": {
        "0": "  Feedback Form"
       },
       "_view_count": null,
       "_view_module": "@jupyter-widgets/controls",
       "_view_module_version": "1.5.0",
       "_view_name": "AccordionView",
       "box_style": "",
       "children": [
        "IPY_MODEL_8ac7445116b14db8bea8a2beeeece079"
       ],
       "layout": "IPY_MODEL_cb8f8f46545340989a3d0aec84d0040a",
       "selected_index": 0
      }
     },
     "09614ade15cb48c6a4c5343656d22299": {
      "model_module": "@jupyter-widgets/controls",
      "model_module_version": "1.5.0",
      "model_name": "VBoxModel",
      "state": {
       "_dom_classes": [],
       "_model_module": "@jupyter-widgets/controls",
       "_model_module_version": "1.5.0",
       "_model_name": "VBoxModel",
       "_view_count": null,
       "_view_module": "@jupyter-widgets/controls",
       "_view_module_version": "1.5.0",
       "_view_name": "VBoxView",
       "box_style": "",
       "children": [
        "IPY_MODEL_29d3ce9c8268453eb3db374f63cc3396",
        "IPY_MODEL_f570d52034fb49d68515c97ff5e27416"
       ],
       "layout": "IPY_MODEL_89dc6618720c48d9953147a7b11ce8c5"
      }
     },
     "135b85b6b62449a5806a251638773d17": {
      "model_module": "@jupyter-widgets/base",
      "model_module_version": "1.2.0",
      "model_name": "LayoutModel",
      "state": {
       "_model_module": "@jupyter-widgets/base",
       "_model_module_version": "1.2.0",
       "_model_name": "LayoutModel",
       "_view_count": null,
       "_view_module": "@jupyter-widgets/base",
       "_view_module_version": "1.2.0",
       "_view_name": "LayoutView",
       "align_content": null,
       "align_items": null,
       "align_self": null,
       "border": null,
       "bottom": null,
       "display": null,
       "flex": null,
       "flex_flow": null,
       "grid_area": null,
       "grid_auto_columns": null,
       "grid_auto_flow": null,
       "grid_auto_rows": null,
       "grid_column": null,
       "grid_gap": null,
       "grid_row": null,
       "grid_template_areas": null,
       "grid_template_columns": null,
       "grid_template_rows": null,
       "height": null,
       "justify_content": null,
       "justify_items": null,
       "left": null,
       "margin": null,
       "max_height": null,
       "max_width": null,
       "min_height": null,
       "min_width": null,
       "object_fit": null,
       "object_position": null,
       "order": null,
       "overflow": null,
       "overflow_x": null,
       "overflow_y": null,
       "padding": null,
       "right": null,
       "top": null,
       "visibility": null,
       "width": null
      }
     },
     "1d3f4f7144da44c9b4defb1a244ed1f6": {
      "model_module": "@jupyter-widgets/base",
      "model_module_version": "1.2.0",
      "model_name": "LayoutModel",
      "state": {
       "_model_module": "@jupyter-widgets/base",
       "_model_module_version": "1.2.0",
       "_model_name": "LayoutModel",
       "_view_count": null,
       "_view_module": "@jupyter-widgets/base",
       "_view_module_version": "1.2.0",
       "_view_name": "LayoutView",
       "align_content": null,
       "align_items": null,
       "align_self": null,
       "border": null,
       "bottom": null,
       "display": null,
       "flex": null,
       "flex_flow": null,
       "grid_area": null,
       "grid_auto_columns": null,
       "grid_auto_flow": null,
       "grid_auto_rows": null,
       "grid_column": null,
       "grid_gap": null,
       "grid_row": null,
       "grid_template_areas": null,
       "grid_template_columns": null,
       "grid_template_rows": null,
       "height": null,
       "justify_content": null,
       "justify_items": null,
       "left": null,
       "margin": null,
       "max_height": null,
       "max_width": null,
       "min_height": null,
       "min_width": null,
       "object_fit": null,
       "object_position": null,
       "order": null,
       "overflow": null,
       "overflow_x": null,
       "overflow_y": null,
       "padding": null,
       "right": null,
       "top": null,
       "visibility": null,
       "width": null
      }
     },
     "1ef81e3fd9a4468b96cab3a428ab914a": {
      "model_module": "@jupyter-widgets/controls",
      "model_module_version": "1.5.0",
      "model_name": "VBoxModel",
      "state": {
       "_dom_classes": [],
       "_model_module": "@jupyter-widgets/controls",
       "_model_module_version": "1.5.0",
       "_model_name": "VBoxModel",
       "_view_count": null,
       "_view_module": "@jupyter-widgets/controls",
       "_view_module_version": "1.5.0",
       "_view_name": "VBoxView",
       "box_style": "",
       "children": [
        "IPY_MODEL_09614ade15cb48c6a4c5343656d22299",
        "IPY_MODEL_a7058f38c1b347a3bf6f473219c2fd86"
       ],
       "layout": "IPY_MODEL_fd61403ef119457388738572a9dd10ca"
      }
     },
     "25414ecbf07d4e55b547ab07359fb8f0": {
      "model_module": "@jupyter-widgets/base",
      "model_module_version": "1.2.0",
      "model_name": "LayoutModel",
      "state": {
       "_model_module": "@jupyter-widgets/base",
       "_model_module_version": "1.2.0",
       "_model_name": "LayoutModel",
       "_view_count": null,
       "_view_module": "@jupyter-widgets/base",
       "_view_module_version": "1.2.0",
       "_view_name": "LayoutView",
       "align_content": null,
       "align_items": null,
       "align_self": null,
       "border": null,
       "bottom": null,
       "display": null,
       "flex": null,
       "flex_flow": null,
       "grid_area": null,
       "grid_auto_columns": null,
       "grid_auto_flow": null,
       "grid_auto_rows": null,
       "grid_column": null,
       "grid_gap": null,
       "grid_row": null,
       "grid_template_areas": null,
       "grid_template_columns": null,
       "grid_template_rows": null,
       "height": null,
       "justify_content": null,
       "justify_items": null,
       "left": null,
       "margin": null,
       "max_height": null,
       "max_width": null,
       "min_height": null,
       "min_width": "80px",
       "object_fit": null,
       "object_position": null,
       "order": null,
       "overflow": null,
       "overflow_x": null,
       "overflow_y": null,
       "padding": null,
       "right": null,
       "top": null,
       "visibility": null,
       "width": "10%"
      }
     },
     "25cd9ed6a1804121b57b332a8336d4b6": {
      "model_module": "@jupyter-widgets/controls",
      "model_module_version": "1.5.0",
      "model_name": "HBoxModel",
      "state": {
       "_dom_classes": [],
       "_model_module": "@jupyter-widgets/controls",
       "_model_module_version": "1.5.0",
       "_model_name": "HBoxModel",
       "_view_count": null,
       "_view_module": "@jupyter-widgets/controls",
       "_view_module_version": "1.5.0",
       "_view_name": "HBoxView",
       "box_style": "",
       "children": [
        "IPY_MODEL_7c2eee7e570f4e409be7a9b152f13d1b",
        "IPY_MODEL_7a6fea8051754038af769b9a46b18d2c"
       ],
       "layout": "IPY_MODEL_3a5741131ff3477d939153d88625e337"
      }
     },
     "28afc93c32d843b68c3d9d63560b045f": {
      "model_module": "@jupyter-widgets/base",
      "model_module_version": "1.2.0",
      "model_name": "LayoutModel",
      "state": {
       "_model_module": "@jupyter-widgets/base",
       "_model_module_version": "1.2.0",
       "_model_name": "LayoutModel",
       "_view_count": null,
       "_view_module": "@jupyter-widgets/base",
       "_view_module_version": "1.2.0",
       "_view_name": "LayoutView",
       "align_content": null,
       "align_items": null,
       "align_self": null,
       "border": null,
       "bottom": null,
       "display": null,
       "flex": null,
       "flex_flow": null,
       "grid_area": null,
       "grid_auto_columns": null,
       "grid_auto_flow": null,
       "grid_auto_rows": null,
       "grid_column": null,
       "grid_gap": null,
       "grid_row": null,
       "grid_template_areas": null,
       "grid_template_columns": null,
       "grid_template_rows": null,
       "height": null,
       "justify_content": null,
       "justify_items": null,
       "left": null,
       "margin": null,
       "max_height": null,
       "max_width": null,
       "min_height": null,
       "min_width": "80px",
       "object_fit": null,
       "object_position": null,
       "order": null,
       "overflow": null,
       "overflow_x": null,
       "overflow_y": null,
       "padding": null,
       "right": null,
       "top": null,
       "visibility": null,
       "width": "10%"
      }
     },
     "294a6d8b063040d483d63e449cdd0630": {
      "model_module": "@jupyter-widgets/controls",
      "model_module_version": "1.5.0",
      "model_name": "ButtonModel",
      "state": {
       "_dom_classes": [],
       "_model_module": "@jupyter-widgets/controls",
       "_model_module_version": "1.5.0",
       "_model_name": "ButtonModel",
       "_view_count": null,
       "_view_module": "@jupyter-widgets/controls",
       "_view_module_version": "1.5.0",
       "_view_name": "ButtonView",
       "button_style": "",
       "description": "Submit",
       "disabled": false,
       "icon": "",
       "layout": "IPY_MODEL_25414ecbf07d4e55b547ab07359fb8f0",
       "style": "IPY_MODEL_536497890945431aa74976d34590f317",
       "tooltip": ""
      }
     },
     "29d3ce9c8268453eb3db374f63cc3396": {
      "model_module": "@jupyter-widgets/controls",
      "model_module_version": "1.5.0",
      "model_name": "LabelModel",
      "state": {
       "_dom_classes": [],
       "_model_module": "@jupyter-widgets/controls",
       "_model_module_version": "1.5.0",
       "_model_name": "LabelModel",
       "_view_count": null,
       "_view_module": "@jupyter-widgets/controls",
       "_view_module_version": "1.5.0",
       "_view_name": "LabelView",
       "description": "",
       "description_tooltip": null,
       "layout": "IPY_MODEL_1d3f4f7144da44c9b4defb1a244ed1f6",
       "placeholder": "​",
       "style": "IPY_MODEL_62e89bde21744b94b6fdb41a2c0077b8",
       "value": "Was the message you saw useful?"
      }
     },
     "36f603cf83554b69b609f68f245239ec": {
      "model_module": "@jupyter-widgets/base",
      "model_module_version": "1.2.0",
      "model_name": "LayoutModel",
      "state": {
       "_model_module": "@jupyter-widgets/base",
       "_model_module_version": "1.2.0",
       "_model_name": "LayoutModel",
       "_view_count": null,
       "_view_module": "@jupyter-widgets/base",
       "_view_module_version": "1.2.0",
       "_view_name": "LayoutView",
       "align_content": null,
       "align_items": null,
       "align_self": null,
       "border": null,
       "bottom": null,
       "display": null,
       "flex": null,
       "flex_flow": null,
       "grid_area": null,
       "grid_auto_columns": null,
       "grid_auto_flow": null,
       "grid_auto_rows": null,
       "grid_column": null,
       "grid_gap": null,
       "grid_row": null,
       "grid_template_areas": null,
       "grid_template_columns": null,
       "grid_template_rows": null,
       "height": null,
       "justify_content": null,
       "justify_items": null,
       "left": null,
       "margin": null,
       "max_height": null,
       "max_width": null,
       "min_height": null,
       "min_width": null,
       "object_fit": null,
       "object_position": null,
       "order": null,
       "overflow": null,
       "overflow_x": null,
       "overflow_y": null,
       "padding": null,
       "right": null,
       "top": null,
       "visibility": null,
       "width": null
      }
     },
     "3a5741131ff3477d939153d88625e337": {
      "model_module": "@jupyter-widgets/base",
      "model_module_version": "1.2.0",
      "model_name": "LayoutModel",
      "state": {
       "_model_module": "@jupyter-widgets/base",
       "_model_module_version": "1.2.0",
       "_model_name": "LayoutModel",
       "_view_count": null,
       "_view_module": "@jupyter-widgets/base",
       "_view_module_version": "1.2.0",
       "_view_name": "LayoutView",
       "align_content": null,
       "align_items": "center",
       "align_self": null,
       "border": null,
       "bottom": null,
       "display": null,
       "flex": null,
       "flex_flow": null,
       "grid_area": null,
       "grid_auto_columns": null,
       "grid_auto_flow": null,
       "grid_auto_rows": null,
       "grid_column": null,
       "grid_gap": null,
       "grid_row": null,
       "grid_template_areas": null,
       "grid_template_columns": null,
       "grid_template_rows": null,
       "height": null,
       "justify_content": null,
       "justify_items": null,
       "left": null,
       "margin": null,
       "max_height": null,
       "max_width": null,
       "min_height": null,
       "min_width": null,
       "object_fit": null,
       "object_position": null,
       "order": null,
       "overflow": null,
       "overflow_x": null,
       "overflow_y": null,
       "padding": null,
       "right": null,
       "top": null,
       "visibility": null,
       "width": null
      }
     },
     "3f726a1806e44fc7b2a0f4505098d3c2": {
      "model_module": "@jupyter-widgets/controls",
      "model_module_version": "1.5.0",
      "model_name": "VBoxModel",
      "state": {
       "_dom_classes": [],
       "_model_module": "@jupyter-widgets/controls",
       "_model_module_version": "1.5.0",
       "_model_name": "VBoxModel",
       "_view_count": null,
       "_view_module": "@jupyter-widgets/controls",
       "_view_module_version": "1.5.0",
       "_view_name": "VBoxView",
       "box_style": "",
       "children": [
        "IPY_MODEL_42cb9ed7dccb44c0ad6e5f80130de368",
        "IPY_MODEL_b26885daa16b414bb03373c1f7b7de86"
       ],
       "layout": "IPY_MODEL_8e1dc9cd3ebc4b829e7f39789ce2c0de"
      }
     },
     "42cb9ed7dccb44c0ad6e5f80130de368": {
      "model_module": "@jupyter-widgets/controls",
      "model_module_version": "1.5.0",
      "model_name": "LabelModel",
      "state": {
       "_dom_classes": [],
       "_model_module": "@jupyter-widgets/controls",
       "_model_module_version": "1.5.0",
       "_model_name": "LabelModel",
       "_view_count": null,
       "_view_module": "@jupyter-widgets/controls",
       "_view_module_version": "1.5.0",
       "_view_name": "LabelView",
       "description": "",
       "description_tooltip": null,
       "layout": "IPY_MODEL_f0a93976d1784c0ea101a284a1195046",
       "placeholder": "​",
       "style": "IPY_MODEL_f46ee8613907403c93741ec13709968b",
       "value": "Was the message you saw useful?"
      }
     },
     "433474ad59e24a5285c1fd42a9b6d1cb": {
      "model_module": "@jupyter-widgets/controls",
      "model_module_version": "1.5.0",
      "model_name": "DescriptionStyleModel",
      "state": {
       "_model_module": "@jupyter-widgets/controls",
       "_model_module_version": "1.5.0",
       "_model_name": "DescriptionStyleModel",
       "_view_count": null,
       "_view_module": "@jupyter-widgets/base",
       "_view_module_version": "1.2.0",
       "_view_name": "StyleView",
       "description_width": ""
      }
     },
     "48de1acd16ca465583b95d141221ea05": {
      "model_module": "@jupyter-widgets/controls",
      "model_module_version": "1.5.0",
      "model_name": "VBoxModel",
      "state": {
       "_dom_classes": [],
       "_model_module": "@jupyter-widgets/controls",
       "_model_module_version": "1.5.0",
       "_model_name": "VBoxModel",
       "_view_count": null,
       "_view_module": "@jupyter-widgets/controls",
       "_view_module_version": "1.5.0",
       "_view_name": "VBoxView",
       "box_style": "",
       "children": [
        "IPY_MODEL_946a7a762a22475ca9877b0a7278f308",
        "IPY_MODEL_ebc27e4c289a4bba91adcd13ce9d66a1"
       ],
       "layout": "IPY_MODEL_135b85b6b62449a5806a251638773d17"
      }
     },
     "4e1757b334424b30abd6cb681e22c444": {
      "model_module": "@jupyter-widgets/base",
      "model_module_version": "1.2.0",
      "model_name": "LayoutModel",
      "state": {
       "_model_module": "@jupyter-widgets/base",
       "_model_module_version": "1.2.0",
       "_model_name": "LayoutModel",
       "_view_count": null,
       "_view_module": "@jupyter-widgets/base",
       "_view_module_version": "1.2.0",
       "_view_name": "LayoutView",
       "align_content": null,
       "align_items": null,
       "align_self": null,
       "border": null,
       "bottom": null,
       "display": null,
       "flex": null,
       "flex_flow": null,
       "grid_area": null,
       "grid_auto_columns": null,
       "grid_auto_flow": null,
       "grid_auto_rows": null,
       "grid_column": null,
       "grid_gap": null,
       "grid_row": null,
       "grid_template_areas": null,
       "grid_template_columns": null,
       "grid_template_rows": null,
       "height": null,
       "justify_content": null,
       "justify_items": null,
       "left": null,
       "margin": "0px 8px 0px 0px",
       "max_height": null,
       "max_width": null,
       "min_height": null,
       "min_width": null,
       "object_fit": null,
       "object_position": null,
       "order": null,
       "overflow": null,
       "overflow_x": null,
       "overflow_y": null,
       "padding": "0px",
       "right": null,
       "top": null,
       "visibility": null,
       "width": "50%"
      }
     },
     "519e38e961274569b8b9e56b0e98f09b": {
      "model_module": "@jupyter-widgets/controls",
      "model_module_version": "1.5.0",
      "model_name": "TextModel",
      "state": {
       "_dom_classes": [],
       "_model_module": "@jupyter-widgets/controls",
       "_model_module_version": "1.5.0",
       "_model_name": "TextModel",
       "_view_count": null,
       "_view_module": "@jupyter-widgets/controls",
       "_view_module_version": "1.5.0",
       "_view_name": "TextView",
       "continuous_update": true,
       "description": "",
       "description_tooltip": null,
       "disabled": false,
       "layout": "IPY_MODEL_76413fda16354651a17c8ffb13944e55",
       "placeholder": "Press enter to submit.",
       "style": "IPY_MODEL_f67eebd0d0d442be995269eed0ed4d6e",
       "value": ""
      }
     },
     "536497890945431aa74976d34590f317": {
      "model_module": "@jupyter-widgets/controls",
      "model_module_version": "1.5.0",
      "model_name": "ButtonStyleModel",
      "state": {
       "_model_module": "@jupyter-widgets/controls",
       "_model_module_version": "1.5.0",
       "_model_name": "ButtonStyleModel",
       "_view_count": null,
       "_view_module": "@jupyter-widgets/base",
       "_view_module_version": "1.2.0",
       "_view_name": "StyleView",
       "button_color": null,
       "font_weight": ""
      }
     },
     "57dd756cc963410dad73152732eae30e": {
      "model_module": "@jupyter-widgets/base",
      "model_module_version": "1.2.0",
      "model_name": "LayoutModel",
      "state": {
       "_model_module": "@jupyter-widgets/base",
       "_model_module_version": "1.2.0",
       "_model_name": "LayoutModel",
       "_view_count": null,
       "_view_module": "@jupyter-widgets/base",
       "_view_module_version": "1.2.0",
       "_view_name": "LayoutView",
       "align_content": null,
       "align_items": null,
       "align_self": null,
       "border": null,
       "bottom": null,
       "display": null,
       "flex": null,
       "flex_flow": null,
       "grid_area": null,
       "grid_auto_columns": null,
       "grid_auto_flow": null,
       "grid_auto_rows": null,
       "grid_column": null,
       "grid_gap": null,
       "grid_row": null,
       "grid_template_areas": null,
       "grid_template_columns": null,
       "grid_template_rows": null,
       "height": null,
       "justify_content": null,
       "justify_items": null,
       "left": null,
       "margin": null,
       "max_height": null,
       "max_width": null,
       "min_height": null,
       "min_width": null,
       "object_fit": null,
       "object_position": null,
       "order": null,
       "overflow": null,
       "overflow_x": null,
       "overflow_y": null,
       "padding": null,
       "right": null,
       "top": null,
       "visibility": null,
       "width": null
      }
     },
     "5c71afae21e84dadbcfd6304173d4422": {
      "model_module": "@jupyter-widgets/base",
      "model_module_version": "1.2.0",
      "model_name": "LayoutModel",
      "state": {
       "_model_module": "@jupyter-widgets/base",
       "_model_module_version": "1.2.0",
       "_model_name": "LayoutModel",
       "_view_count": null,
       "_view_module": "@jupyter-widgets/base",
       "_view_module_version": "1.2.0",
       "_view_name": "LayoutView",
       "align_content": null,
       "align_items": null,
       "align_self": null,
       "border": null,
       "bottom": null,
       "display": null,
       "flex": null,
       "flex_flow": null,
       "grid_area": null,
       "grid_auto_columns": null,
       "grid_auto_flow": null,
       "grid_auto_rows": null,
       "grid_column": null,
       "grid_gap": null,
       "grid_row": null,
       "grid_template_areas": null,
       "grid_template_columns": null,
       "grid_template_rows": null,
       "height": null,
       "justify_content": null,
       "justify_items": null,
       "left": null,
       "margin": null,
       "max_height": null,
       "max_width": null,
       "min_height": null,
       "min_width": null,
       "object_fit": null,
       "object_position": null,
       "order": null,
       "overflow": null,
       "overflow_x": null,
       "overflow_y": null,
       "padding": null,
       "right": null,
       "top": null,
       "visibility": null,
       "width": null
      }
     },
     "62e89bde21744b94b6fdb41a2c0077b8": {
      "model_module": "@jupyter-widgets/controls",
      "model_module_version": "1.5.0",
      "model_name": "DescriptionStyleModel",
      "state": {
       "_model_module": "@jupyter-widgets/controls",
       "_model_module_version": "1.5.0",
       "_model_name": "DescriptionStyleModel",
       "_view_count": null,
       "_view_module": "@jupyter-widgets/base",
       "_view_module_version": "1.2.0",
       "_view_name": "StyleView",
       "description_width": ""
      }
     },
     "6d34db731a664dae9dac58bf3640c66b": {
      "model_module": "@jupyter-widgets/base",
      "model_module_version": "1.2.0",
      "model_name": "LayoutModel",
      "state": {
       "_model_module": "@jupyter-widgets/base",
       "_model_module_version": "1.2.0",
       "_model_name": "LayoutModel",
       "_view_count": null,
       "_view_module": "@jupyter-widgets/base",
       "_view_module_version": "1.2.0",
       "_view_name": "LayoutView",
       "align_content": null,
       "align_items": null,
       "align_self": null,
       "border": null,
       "bottom": null,
       "display": null,
       "flex": null,
       "flex_flow": null,
       "grid_area": null,
       "grid_auto_columns": null,
       "grid_auto_flow": null,
       "grid_auto_rows": null,
       "grid_column": null,
       "grid_gap": null,
       "grid_row": null,
       "grid_template_areas": null,
       "grid_template_columns": null,
       "grid_template_rows": null,
       "height": null,
       "justify_content": null,
       "justify_items": null,
       "left": null,
       "margin": null,
       "max_height": null,
       "max_width": null,
       "min_height": null,
       "min_width": null,
       "object_fit": null,
       "object_position": null,
       "order": null,
       "overflow": null,
       "overflow_x": null,
       "overflow_y": null,
       "padding": null,
       "right": null,
       "top": null,
       "visibility": null,
       "width": null
      }
     },
     "76413fda16354651a17c8ffb13944e55": {
      "model_module": "@jupyter-widgets/base",
      "model_module_version": "1.2.0",
      "model_name": "LayoutModel",
      "state": {
       "_model_module": "@jupyter-widgets/base",
       "_model_module_version": "1.2.0",
       "_model_name": "LayoutModel",
       "_view_count": null,
       "_view_module": "@jupyter-widgets/base",
       "_view_module_version": "1.2.0",
       "_view_name": "LayoutView",
       "align_content": null,
       "align_items": null,
       "align_self": null,
       "border": null,
       "bottom": null,
       "display": null,
       "flex": null,
       "flex_flow": null,
       "grid_area": null,
       "grid_auto_columns": null,
       "grid_auto_flow": null,
       "grid_auto_rows": null,
       "grid_column": null,
       "grid_gap": null,
       "grid_row": null,
       "grid_template_areas": null,
       "grid_template_columns": null,
       "grid_template_rows": null,
       "height": null,
       "justify_content": null,
       "justify_items": null,
       "left": null,
       "margin": "0px 8px 0px 0px",
       "max_height": null,
       "max_width": null,
       "min_height": null,
       "min_width": null,
       "object_fit": null,
       "object_position": null,
       "order": null,
       "overflow": null,
       "overflow_x": null,
       "overflow_y": null,
       "padding": "0px",
       "right": null,
       "top": null,
       "visibility": null,
       "width": "50%"
      }
     },
     "78e5c1d781b74509b99e1663f880e771": {
      "model_module": "@jupyter-widgets/controls",
      "model_module_version": "1.5.0",
      "model_name": "DescriptionStyleModel",
      "state": {
       "_model_module": "@jupyter-widgets/controls",
       "_model_module_version": "1.5.0",
       "_model_name": "DescriptionStyleModel",
       "_view_count": null,
       "_view_module": "@jupyter-widgets/base",
       "_view_module_version": "1.2.0",
       "_view_name": "StyleView",
       "description_width": ""
      }
     },
     "7a6fea8051754038af769b9a46b18d2c": {
      "model_module": "@jupyter-widgets/controls",
      "model_module_version": "1.5.0",
      "model_name": "ButtonModel",
      "state": {
       "_dom_classes": [],
       "_model_module": "@jupyter-widgets/controls",
       "_model_module_version": "1.5.0",
       "_model_name": "ButtonModel",
       "_view_count": null,
       "_view_module": "@jupyter-widgets/controls",
       "_view_module_version": "1.5.0",
       "_view_name": "ButtonView",
       "button_style": "",
       "description": "Submit",
       "disabled": false,
       "icon": "",
       "layout": "IPY_MODEL_28afc93c32d843b68c3d9d63560b045f",
       "style": "IPY_MODEL_f5fef1a7a19e4eafa2450c8169438fab",
       "tooltip": ""
      }
     },
     "7c2eee7e570f4e409be7a9b152f13d1b": {
      "model_module": "@jupyter-widgets/controls",
      "model_module_version": "1.5.0",
      "model_name": "TextModel",
      "state": {
       "_dom_classes": [],
       "_model_module": "@jupyter-widgets/controls",
       "_model_module_version": "1.5.0",
       "_model_name": "TextModel",
       "_view_count": null,
       "_view_module": "@jupyter-widgets/controls",
       "_view_module_version": "1.5.0",
       "_view_name": "TextView",
       "continuous_update": true,
       "description": "",
       "description_tooltip": null,
       "disabled": false,
       "layout": "IPY_MODEL_4e1757b334424b30abd6cb681e22c444",
       "placeholder": "Press enter to submit.",
       "style": "IPY_MODEL_7f5fdbaed5bf4909b8e7134e1ac0757f",
       "value": ""
      }
     },
     "7ea50593e68646adb1c03a3ce2a57d13": {
      "model_module": "@jupyter-widgets/controls",
      "model_module_version": "1.5.0",
      "model_name": "LabelModel",
      "state": {
       "_dom_classes": [],
       "_model_module": "@jupyter-widgets/controls",
       "_model_module_version": "1.5.0",
       "_model_name": "LabelModel",
       "_view_count": null,
       "_view_module": "@jupyter-widgets/controls",
       "_view_module_version": "1.5.0",
       "_view_name": "LabelView",
       "description": "",
       "description_tooltip": null,
       "layout": "IPY_MODEL_36f603cf83554b69b609f68f245239ec",
       "placeholder": "​",
       "style": "IPY_MODEL_dc07d746fa654b2a982f31e006731438",
       "value": "Any other feedback?"
      }
     },
     "7f5fdbaed5bf4909b8e7134e1ac0757f": {
      "model_module": "@jupyter-widgets/controls",
      "model_module_version": "1.5.0",
      "model_name": "DescriptionStyleModel",
      "state": {
       "_model_module": "@jupyter-widgets/controls",
       "_model_module_version": "1.5.0",
       "_model_name": "DescriptionStyleModel",
       "_view_count": null,
       "_view_module": "@jupyter-widgets/base",
       "_view_module_version": "1.2.0",
       "_view_name": "StyleView",
       "description_width": ""
      }
     },
     "89dc6618720c48d9953147a7b11ce8c5": {
      "model_module": "@jupyter-widgets/base",
      "model_module_version": "1.2.0",
      "model_name": "LayoutModel",
      "state": {
       "_model_module": "@jupyter-widgets/base",
       "_model_module_version": "1.2.0",
       "_model_name": "LayoutModel",
       "_view_count": null,
       "_view_module": "@jupyter-widgets/base",
       "_view_module_version": "1.2.0",
       "_view_name": "LayoutView",
       "align_content": null,
       "align_items": null,
       "align_self": null,
       "border": null,
       "bottom": null,
       "display": null,
       "flex": null,
       "flex_flow": null,
       "grid_area": null,
       "grid_auto_columns": null,
       "grid_auto_flow": null,
       "grid_auto_rows": null,
       "grid_column": null,
       "grid_gap": null,
       "grid_row": null,
       "grid_template_areas": null,
       "grid_template_columns": null,
       "grid_template_rows": null,
       "height": null,
       "justify_content": null,
       "justify_items": null,
       "left": null,
       "margin": null,
       "max_height": null,
       "max_width": null,
       "min_height": null,
       "min_width": null,
       "object_fit": null,
       "object_position": null,
       "order": null,
       "overflow": null,
       "overflow_x": null,
       "overflow_y": null,
       "padding": null,
       "right": null,
       "top": null,
       "visibility": null,
       "width": null
      }
     },
     "8ac7445116b14db8bea8a2beeeece079": {
      "model_module": "@jupyter-widgets/controls",
      "model_module_version": "1.5.0",
      "model_name": "VBoxModel",
      "state": {
       "_dom_classes": [],
       "_model_module": "@jupyter-widgets/controls",
       "_model_module_version": "1.5.0",
       "_model_name": "VBoxModel",
       "_view_count": null,
       "_view_module": "@jupyter-widgets/controls",
       "_view_module_version": "1.5.0",
       "_view_name": "VBoxView",
       "box_style": "",
       "children": [
        "IPY_MODEL_3f726a1806e44fc7b2a0f4505098d3c2",
        "IPY_MODEL_48de1acd16ca465583b95d141221ea05"
       ],
       "layout": "IPY_MODEL_6d34db731a664dae9dac58bf3640c66b"
      }
     },
     "8bc4c4cb643f4e37ae338383268df882": {
      "model_module": "@jupyter-widgets/controls",
      "model_module_version": "1.5.0",
      "model_name": "AccordionModel",
      "state": {
       "_dom_classes": [],
       "_model_module": "@jupyter-widgets/controls",
       "_model_module_version": "1.5.0",
       "_model_name": "AccordionModel",
       "_titles": {
        "0": "  Feedback Form"
       },
       "_view_count": null,
       "_view_module": "@jupyter-widgets/controls",
       "_view_module_version": "1.5.0",
       "_view_name": "AccordionView",
       "box_style": "",
       "children": [
        "IPY_MODEL_1ef81e3fd9a4468b96cab3a428ab914a"
       ],
       "layout": "IPY_MODEL_980846ce4c6646429bea23be5f85ed8a",
       "selected_index": 0
      }
     },
     "8e1dc9cd3ebc4b829e7f39789ce2c0de": {
      "model_module": "@jupyter-widgets/base",
      "model_module_version": "1.2.0",
      "model_name": "LayoutModel",
      "state": {
       "_model_module": "@jupyter-widgets/base",
       "_model_module_version": "1.2.0",
       "_model_name": "LayoutModel",
       "_view_count": null,
       "_view_module": "@jupyter-widgets/base",
       "_view_module_version": "1.2.0",
       "_view_name": "LayoutView",
       "align_content": null,
       "align_items": null,
       "align_self": null,
       "border": null,
       "bottom": null,
       "display": null,
       "flex": null,
       "flex_flow": null,
       "grid_area": null,
       "grid_auto_columns": null,
       "grid_auto_flow": null,
       "grid_auto_rows": null,
       "grid_column": null,
       "grid_gap": null,
       "grid_row": null,
       "grid_template_areas": null,
       "grid_template_columns": null,
       "grid_template_rows": null,
       "height": null,
       "justify_content": null,
       "justify_items": null,
       "left": null,
       "margin": null,
       "max_height": null,
       "max_width": null,
       "min_height": null,
       "min_width": null,
       "object_fit": null,
       "object_position": null,
       "order": null,
       "overflow": null,
       "overflow_x": null,
       "overflow_y": null,
       "padding": null,
       "right": null,
       "top": null,
       "visibility": null,
       "width": null
      }
     },
     "946a7a762a22475ca9877b0a7278f308": {
      "model_module": "@jupyter-widgets/controls",
      "model_module_version": "1.5.0",
      "model_name": "LabelModel",
      "state": {
       "_dom_classes": [],
       "_model_module": "@jupyter-widgets/controls",
       "_model_module_version": "1.5.0",
       "_model_name": "LabelModel",
       "_view_count": null,
       "_view_module": "@jupyter-widgets/controls",
       "_view_module_version": "1.5.0",
       "_view_name": "LabelView",
       "description": "",
       "description_tooltip": null,
       "layout": "IPY_MODEL_d6d4d3080d0442b49059eaa106f49b19",
       "placeholder": "​",
       "style": "IPY_MODEL_78e5c1d781b74509b99e1663f880e771",
       "value": "Any other feedback?"
      }
     },
     "980846ce4c6646429bea23be5f85ed8a": {
      "model_module": "@jupyter-widgets/base",
      "model_module_version": "1.2.0",
      "model_name": "LayoutModel",
      "state": {
       "_model_module": "@jupyter-widgets/base",
       "_model_module_version": "1.2.0",
       "_model_name": "LayoutModel",
       "_view_count": null,
       "_view_module": "@jupyter-widgets/base",
       "_view_module_version": "1.2.0",
       "_view_name": "LayoutView",
       "align_content": null,
       "align_items": null,
       "align_self": null,
       "border": null,
       "bottom": null,
       "display": null,
       "flex": null,
       "flex_flow": null,
       "grid_area": null,
       "grid_auto_columns": null,
       "grid_auto_flow": null,
       "grid_auto_rows": null,
       "grid_column": null,
       "grid_gap": null,
       "grid_row": null,
       "grid_template_areas": null,
       "grid_template_columns": null,
       "grid_template_rows": null,
       "height": null,
       "justify_content": null,
       "justify_items": null,
       "left": null,
       "margin": null,
       "max_height": null,
       "max_width": null,
       "min_height": null,
       "min_width": null,
       "object_fit": null,
       "object_position": null,
       "order": null,
       "overflow": null,
       "overflow_x": null,
       "overflow_y": null,
       "padding": null,
       "right": null,
       "top": null,
       "visibility": null,
       "width": null
      }
     },
     "a47b4acba3bb4087b6f95ea810e14f78": {
      "model_module": "@jupyter-widgets/base",
      "model_module_version": "1.2.0",
      "model_name": "LayoutModel",
      "state": {
       "_model_module": "@jupyter-widgets/base",
       "_model_module_version": "1.2.0",
       "_model_name": "LayoutModel",
       "_view_count": null,
       "_view_module": "@jupyter-widgets/base",
       "_view_module_version": "1.2.0",
       "_view_name": "LayoutView",
       "align_content": null,
       "align_items": "center",
       "align_self": null,
       "border": null,
       "bottom": null,
       "display": null,
       "flex": null,
       "flex_flow": null,
       "grid_area": null,
       "grid_auto_columns": null,
       "grid_auto_flow": null,
       "grid_auto_rows": null,
       "grid_column": null,
       "grid_gap": null,
       "grid_row": null,
       "grid_template_areas": null,
       "grid_template_columns": null,
       "grid_template_rows": null,
       "height": null,
       "justify_content": null,
       "justify_items": null,
       "left": null,
       "margin": null,
       "max_height": null,
       "max_width": null,
       "min_height": null,
       "min_width": null,
       "object_fit": null,
       "object_position": null,
       "order": null,
       "overflow": null,
       "overflow_x": null,
       "overflow_y": null,
       "padding": null,
       "right": null,
       "top": null,
       "visibility": null,
       "width": null
      }
     },
     "a6a74a8bdee84fe8bba931422dbd1c7b": {
      "model_module": "@jupyter-widgets/controls",
      "model_module_version": "1.5.0",
      "model_name": "DescriptionStyleModel",
      "state": {
       "_model_module": "@jupyter-widgets/controls",
       "_model_module_version": "1.5.0",
       "_model_name": "DescriptionStyleModel",
       "_view_count": null,
       "_view_module": "@jupyter-widgets/base",
       "_view_module_version": "1.2.0",
       "_view_name": "StyleView",
       "description_width": ""
      }
     },
     "a7058f38c1b347a3bf6f473219c2fd86": {
      "model_module": "@jupyter-widgets/controls",
      "model_module_version": "1.5.0",
      "model_name": "VBoxModel",
      "state": {
       "_dom_classes": [],
       "_model_module": "@jupyter-widgets/controls",
       "_model_module_version": "1.5.0",
       "_model_name": "VBoxModel",
       "_view_count": null,
       "_view_module": "@jupyter-widgets/controls",
       "_view_module_version": "1.5.0",
       "_view_name": "VBoxView",
       "box_style": "",
       "children": [
        "IPY_MODEL_7ea50593e68646adb1c03a3ce2a57d13",
        "IPY_MODEL_25cd9ed6a1804121b57b332a8336d4b6"
       ],
       "layout": "IPY_MODEL_5c71afae21e84dadbcfd6304173d4422"
      }
     },
     "b26885daa16b414bb03373c1f7b7de86": {
      "model_module": "@jupyter-widgets/controls",
      "model_module_version": "1.5.0",
      "model_name": "DropdownModel",
      "state": {
       "_dom_classes": [],
       "_model_module": "@jupyter-widgets/controls",
       "_model_module_version": "1.5.0",
       "_model_name": "DropdownModel",
       "_options_labels": [
        "",
        "Extremely useful",
        "Very useful",
        "Somewhat useful",
        "Slightly useful",
        "Not at all useful"
       ],
       "_view_count": null,
       "_view_module": "@jupyter-widgets/controls",
       "_view_module_version": "1.5.0",
       "_view_name": "DropdownView",
       "description": "",
       "description_tooltip": null,
       "disabled": false,
       "index": 0,
       "layout": "IPY_MODEL_57dd756cc963410dad73152732eae30e",
       "style": "IPY_MODEL_433474ad59e24a5285c1fd42a9b6d1cb"
      }
     },
     "bae6e3a90a8e4ac8a50220c163ec9426": {
      "model_module": "@jupyter-widgets/base",
      "model_module_version": "1.2.0",
      "model_name": "LayoutModel",
      "state": {
       "_model_module": "@jupyter-widgets/base",
       "_model_module_version": "1.2.0",
       "_model_name": "LayoutModel",
       "_view_count": null,
       "_view_module": "@jupyter-widgets/base",
       "_view_module_version": "1.2.0",
       "_view_name": "LayoutView",
       "align_content": null,
       "align_items": null,
       "align_self": null,
       "border": null,
       "bottom": null,
       "display": null,
       "flex": null,
       "flex_flow": null,
       "grid_area": null,
       "grid_auto_columns": null,
       "grid_auto_flow": null,
       "grid_auto_rows": null,
       "grid_column": null,
       "grid_gap": null,
       "grid_row": null,
       "grid_template_areas": null,
       "grid_template_columns": null,
       "grid_template_rows": null,
       "height": null,
       "justify_content": null,
       "justify_items": null,
       "left": null,
       "margin": null,
       "max_height": null,
       "max_width": null,
       "min_height": null,
       "min_width": null,
       "object_fit": null,
       "object_position": null,
       "order": null,
       "overflow": null,
       "overflow_x": null,
       "overflow_y": null,
       "padding": null,
       "right": null,
       "top": null,
       "visibility": null,
       "width": null
      }
     },
     "cb8f8f46545340989a3d0aec84d0040a": {
      "model_module": "@jupyter-widgets/base",
      "model_module_version": "1.2.0",
      "model_name": "LayoutModel",
      "state": {
       "_model_module": "@jupyter-widgets/base",
       "_model_module_version": "1.2.0",
       "_model_name": "LayoutModel",
       "_view_count": null,
       "_view_module": "@jupyter-widgets/base",
       "_view_module_version": "1.2.0",
       "_view_name": "LayoutView",
       "align_content": null,
       "align_items": null,
       "align_self": null,
       "border": null,
       "bottom": null,
       "display": null,
       "flex": null,
       "flex_flow": null,
       "grid_area": null,
       "grid_auto_columns": null,
       "grid_auto_flow": null,
       "grid_auto_rows": null,
       "grid_column": null,
       "grid_gap": null,
       "grid_row": null,
       "grid_template_areas": null,
       "grid_template_columns": null,
       "grid_template_rows": null,
       "height": null,
       "justify_content": null,
       "justify_items": null,
       "left": null,
       "margin": null,
       "max_height": null,
       "max_width": null,
       "min_height": null,
       "min_width": null,
       "object_fit": null,
       "object_position": null,
       "order": null,
       "overflow": null,
       "overflow_x": null,
       "overflow_y": null,
       "padding": null,
       "right": null,
       "top": null,
       "visibility": null,
       "width": null
      }
     },
     "d6d4d3080d0442b49059eaa106f49b19": {
      "model_module": "@jupyter-widgets/base",
      "model_module_version": "1.2.0",
      "model_name": "LayoutModel",
      "state": {
       "_model_module": "@jupyter-widgets/base",
       "_model_module_version": "1.2.0",
       "_model_name": "LayoutModel",
       "_view_count": null,
       "_view_module": "@jupyter-widgets/base",
       "_view_module_version": "1.2.0",
       "_view_name": "LayoutView",
       "align_content": null,
       "align_items": null,
       "align_self": null,
       "border": null,
       "bottom": null,
       "display": null,
       "flex": null,
       "flex_flow": null,
       "grid_area": null,
       "grid_auto_columns": null,
       "grid_auto_flow": null,
       "grid_auto_rows": null,
       "grid_column": null,
       "grid_gap": null,
       "grid_row": null,
       "grid_template_areas": null,
       "grid_template_columns": null,
       "grid_template_rows": null,
       "height": null,
       "justify_content": null,
       "justify_items": null,
       "left": null,
       "margin": null,
       "max_height": null,
       "max_width": null,
       "min_height": null,
       "min_width": null,
       "object_fit": null,
       "object_position": null,
       "order": null,
       "overflow": null,
       "overflow_x": null,
       "overflow_y": null,
       "padding": null,
       "right": null,
       "top": null,
       "visibility": null,
       "width": null
      }
     },
     "dc07d746fa654b2a982f31e006731438": {
      "model_module": "@jupyter-widgets/controls",
      "model_module_version": "1.5.0",
      "model_name": "DescriptionStyleModel",
      "state": {
       "_model_module": "@jupyter-widgets/controls",
       "_model_module_version": "1.5.0",
       "_model_name": "DescriptionStyleModel",
       "_view_count": null,
       "_view_module": "@jupyter-widgets/base",
       "_view_module_version": "1.2.0",
       "_view_name": "StyleView",
       "description_width": ""
      }
     },
     "ebc27e4c289a4bba91adcd13ce9d66a1": {
      "model_module": "@jupyter-widgets/controls",
      "model_module_version": "1.5.0",
      "model_name": "HBoxModel",
      "state": {
       "_dom_classes": [],
       "_model_module": "@jupyter-widgets/controls",
       "_model_module_version": "1.5.0",
       "_model_name": "HBoxModel",
       "_view_count": null,
       "_view_module": "@jupyter-widgets/controls",
       "_view_module_version": "1.5.0",
       "_view_name": "HBoxView",
       "box_style": "",
       "children": [
        "IPY_MODEL_519e38e961274569b8b9e56b0e98f09b",
        "IPY_MODEL_294a6d8b063040d483d63e449cdd0630"
       ],
       "layout": "IPY_MODEL_a47b4acba3bb4087b6f95ea810e14f78"
      }
     },
     "f0a93976d1784c0ea101a284a1195046": {
      "model_module": "@jupyter-widgets/base",
      "model_module_version": "1.2.0",
      "model_name": "LayoutModel",
      "state": {
       "_model_module": "@jupyter-widgets/base",
       "_model_module_version": "1.2.0",
       "_model_name": "LayoutModel",
       "_view_count": null,
       "_view_module": "@jupyter-widgets/base",
       "_view_module_version": "1.2.0",
       "_view_name": "LayoutView",
       "align_content": null,
       "align_items": null,
       "align_self": null,
       "border": null,
       "bottom": null,
       "display": null,
       "flex": null,
       "flex_flow": null,
       "grid_area": null,
       "grid_auto_columns": null,
       "grid_auto_flow": null,
       "grid_auto_rows": null,
       "grid_column": null,
       "grid_gap": null,
       "grid_row": null,
       "grid_template_areas": null,
       "grid_template_columns": null,
       "grid_template_rows": null,
       "height": null,
       "justify_content": null,
       "justify_items": null,
       "left": null,
       "margin": null,
       "max_height": null,
       "max_width": null,
       "min_height": null,
       "min_width": null,
       "object_fit": null,
       "object_position": null,
       "order": null,
       "overflow": null,
       "overflow_x": null,
       "overflow_y": null,
       "padding": null,
       "right": null,
       "top": null,
       "visibility": null,
       "width": null
      }
     },
     "f46ee8613907403c93741ec13709968b": {
      "model_module": "@jupyter-widgets/controls",
      "model_module_version": "1.5.0",
      "model_name": "DescriptionStyleModel",
      "state": {
       "_model_module": "@jupyter-widgets/controls",
       "_model_module_version": "1.5.0",
       "_model_name": "DescriptionStyleModel",
       "_view_count": null,
       "_view_module": "@jupyter-widgets/base",
       "_view_module_version": "1.2.0",
       "_view_name": "StyleView",
       "description_width": ""
      }
     },
     "f570d52034fb49d68515c97ff5e27416": {
      "model_module": "@jupyter-widgets/controls",
      "model_module_version": "1.5.0",
      "model_name": "DropdownModel",
      "state": {
       "_dom_classes": [],
       "_model_module": "@jupyter-widgets/controls",
       "_model_module_version": "1.5.0",
       "_model_name": "DropdownModel",
       "_options_labels": [
        "",
        "Extremely useful",
        "Very useful",
        "Somewhat useful",
        "Slightly useful",
        "Not at all useful"
       ],
       "_view_count": null,
       "_view_module": "@jupyter-widgets/controls",
       "_view_module_version": "1.5.0",
       "_view_name": "DropdownView",
       "description": "",
       "description_tooltip": null,
       "disabled": false,
       "index": 0,
       "layout": "IPY_MODEL_bae6e3a90a8e4ac8a50220c163ec9426",
       "style": "IPY_MODEL_a6a74a8bdee84fe8bba931422dbd1c7b"
      }
     },
     "f5fef1a7a19e4eafa2450c8169438fab": {
      "model_module": "@jupyter-widgets/controls",
      "model_module_version": "1.5.0",
      "model_name": "ButtonStyleModel",
      "state": {
       "_model_module": "@jupyter-widgets/controls",
       "_model_module_version": "1.5.0",
       "_model_name": "ButtonStyleModel",
       "_view_count": null,
       "_view_module": "@jupyter-widgets/base",
       "_view_module_version": "1.2.0",
       "_view_name": "StyleView",
       "button_color": null,
       "font_weight": ""
      }
     },
     "f67eebd0d0d442be995269eed0ed4d6e": {
      "model_module": "@jupyter-widgets/controls",
      "model_module_version": "1.5.0",
      "model_name": "DescriptionStyleModel",
      "state": {
       "_model_module": "@jupyter-widgets/controls",
       "_model_module_version": "1.5.0",
       "_model_name": "DescriptionStyleModel",
       "_view_count": null,
       "_view_module": "@jupyter-widgets/base",
       "_view_module_version": "1.2.0",
       "_view_name": "StyleView",
       "description_width": ""
      }
     },
     "fd61403ef119457388738572a9dd10ca": {
      "model_module": "@jupyter-widgets/base",
      "model_module_version": "1.2.0",
      "model_name": "LayoutModel",
      "state": {
       "_model_module": "@jupyter-widgets/base",
       "_model_module_version": "1.2.0",
       "_model_name": "LayoutModel",
       "_view_count": null,
       "_view_module": "@jupyter-widgets/base",
       "_view_module_version": "1.2.0",
       "_view_name": "LayoutView",
       "align_content": null,
       "align_items": null,
       "align_self": null,
       "border": null,
       "bottom": null,
       "display": null,
       "flex": null,
       "flex_flow": null,
       "grid_area": null,
       "grid_auto_columns": null,
       "grid_auto_flow": null,
       "grid_auto_rows": null,
       "grid_column": null,
       "grid_gap": null,
       "grid_row": null,
       "grid_template_areas": null,
       "grid_template_columns": null,
       "grid_template_rows": null,
       "height": null,
       "justify_content": null,
       "justify_items": null,
       "left": null,
       "margin": null,
       "max_height": null,
       "max_width": null,
       "min_height": null,
       "min_width": null,
       "object_fit": null,
       "object_position": null,
       "order": null,
       "overflow": null,
       "overflow_x": null,
       "overflow_y": null,
       "padding": null,
       "right": null,
       "top": null,
       "visibility": null,
       "width": null
      }
     }
    },
    "version_major": 2,
    "version_minor": 0
   }
  }
 },
 "nbformat": 4,
 "nbformat_minor": 5
}
