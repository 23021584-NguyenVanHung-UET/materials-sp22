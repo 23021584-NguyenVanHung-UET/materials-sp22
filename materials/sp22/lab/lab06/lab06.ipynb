{
 "cells": [
  {
   "cell_type": "code",
   "execution_count": null,
   "id": "797f8ccc",
   "metadata": {
    "deletable": false,
    "editable": false
   },
   "outputs": [],
   "source": [
    "# Initialize Otter\n",
    "import otter\n",
    "grader = otter.Notebook(\"lab06.ipynb\")"
   ]
  },
  {
   "cell_type": "markdown",
   "id": "6937507d",
   "metadata": {},
   "source": [
    "## Lab 6: Examining the Therapeutic Touch\n",
    "\n",
    "Welcome to Lab 6!\n",
    "\n",
    "After such an extensive introduction to programming for data science, we are finally moving into the section of the course where we can apply our new skils to answer real questions.  \n",
    "\n",
    "In this lab, we'll use testing techniques that were introduced in lecture to test the idea of the therapeutic touch, the idea that some practitioner can feel and massage your human energy field. \n",
    "\n",
    "**Lab Queue**: You can find the Lab Queue at [lab.data8.org](https://lab.data8.org/). Whenever you feel stuck or need some further clarification, add yourself to the queue to get help from a GSI or academic intern! Please list your breakout room number and purpose on your ticket!\n",
    "\n",
    "**Grading**: Here are the policies for getting full credit:\n",
    "\n",
    "1. To receive credit for this lab notebook (8% final grade), you must submit it by **Friday March 4th at 5pm**.\n",
    "\n",
    "2. To receive credit for the lab attendance (2% final grade), you must attend at least 5 out of the 14 labs.\n",
    "\n",
    "**Submission**: Once you're finished, scroll up to the top of the page, and run every cell in the notebook.  Select \"Save\" in the File menu (please don’t hit Save As), then rerun the last cell of the notebook.  The result will contain a zip file that you can submit to Gradescope. If you are in lab, you can submit a ticket on lab.data8.org to ask a staff member to check you off. "
   ]
  },
  {
   "cell_type": "code",
   "execution_count": 1,
   "id": "5e19df18",
   "metadata": {
    "execution": {
     "iopub.execute_input": "2022-02-28T08:40:03.583312Z",
     "iopub.status.busy": "2022-02-28T08:40:03.582102Z",
     "iopub.status.idle": "2022-02-28T08:40:05.114190Z",
     "shell.execute_reply": "2022-02-28T08:40:05.114605Z"
    }
   },
   "outputs": [],
   "source": [
    "# Run this cell, but please don't change it.\n",
    "\n",
    "# These lines import the Numpy and Datascience modules.\n",
    "import numpy as np\n",
    "from datascience import *\n",
    "\n",
    "# These lines do some fancy plotting magic\n",
    "import matplotlib\n",
    "%matplotlib inline\n",
    "import matplotlib.pyplot as plt\n",
    "plt.style.use('fivethirtyeight')\n",
    "import warnings\n",
    "warnings.simplefilter('ignore', FutureWarning)\n",
    "from matplotlib import patches\n",
    "from ipywidgets import interact, interactive, fixed\n",
    "import ipywidgets as widgets\n",
    "\n",
    "import d8error"
   ]
  },
  {
   "cell_type": "markdown",
   "id": "4bca5ba1",
   "metadata": {},
   "source": [
    "## 1. What is the Therapeutic Touch\n",
    "\n",
    "The Therapeutic Touch (TT) is the idea that everyone can feel the Human Energy Field (HEF) around individuals.  Those who practice TT have described different people's HEFs as \"warm as Jell-O\" and \"tactile as taffy.\" \n",
    "\n",
    "TT was a popular technique used throughout the 20th century that was toted as a great way to bring balance to a person's health. Certain practitioners claim they have the ability to feel the HEF and can massage it in order to promote health and relaxation in individuals.\n",
    "\n",
    "### Emily Rosa\n",
    "\n",
    "[Emily Rosa](https://en.wikipedia.org/wiki/Emily_Rosa) was a 4th grade student who was very familiar with the world of TT, thanks to her parents, who were both medical practitioners and skeptics of TT.\n",
    "\n",
    "For her 4th grade science fair project, Emily decided to test whether or not TT practitioners could truly interact with a person's HEF. She later went on to publish her work in TT, becoming the youngest person to have a research paper published in a peer reviewed medical journal."
   ]
  },
  {
   "cell_type": "markdown",
   "id": "ebae9226",
   "metadata": {},
   "source": [
    "### Emily's Experiment\n",
    "\n",
    "Emily's experiment was clean, simple, and effective. Due to her parents' occupations in the medical field, she had wide access to people who claimed to be TT practitioners. \n",
    "\n",
    "Emily took 21 TT practitioners and used them for her science experiment. She would take a TT practitioner and ask them to extend their hands through a screen (which they can't see through). Emily would be on the other side and would flip a fair coin. Depending on how the coin landed, she would put out either her left hand or her right hand. The TT practitioner would then have to answer which hand Emily put out. If a pracitioner could truly interact with a person's HEF, it would be expected that they answered correctly.\n",
    "\n",
    "Overall, through 210 samples, the practitioner picked the correct hand 44% of the time. \n",
    "\n",
    "Emily's main goal here was to test whether or not the TT practicioners' guesses were random, like the flip of a coin. In most medical experiments, this is the norm. We want to test whether or not the treatment has an effect, *not* whether or not the treatment actually works. \n",
    "\n",
    "We will now begin to formulate this experiment in terms of the terminology we learned in this course. "
   ]
  },
  {
   "cell_type": "markdown",
   "id": "88d32f5b",
   "metadata": {
    "deletable": false,
    "editable": false
   },
   "source": [
    "**Question 1.1**: Describe Emily’s model for how likely the TT practitioners are to choose the correct hand. What alternative model is her model meant to discredit? Discuss with students around you to come to a conclusion. Check in with a TA or AI if you are stuck.\n",
    "\n",
    "<!--\n",
    "BEGIN QUESTION\n",
    "name: q1_1\n",
    "-->"
   ]
  },
  {
   "cell_type": "markdown",
   "id": "f6f7439f",
   "metadata": {},
   "source": [
    "_Type your answer here, replacing this text._"
   ]
  },
  {
   "cell_type": "markdown",
   "id": "b5f57871",
   "metadata": {
    "deletable": false,
    "editable": false
   },
   "source": [
    "**Question 1.2:** Remember that the practitioner got the correct answer 44% (0.44) of the time. According to Emily's model, on average, what proportion of times do we expect the practitioner to guess the correct hand? Make sure your answer is a number between 0 and 1. \n",
    "\n",
    "<!--\n",
    "BEGIN QUESTION\n",
    "name: q1_2\n",
    "-->"
   ]
  },
  {
   "cell_type": "code",
   "execution_count": 2,
   "id": "956f8b5b",
   "metadata": {
    "execution": {
     "iopub.execute_input": "2022-02-28T08:40:05.121532Z",
     "iopub.status.busy": "2022-02-28T08:40:05.120984Z",
     "iopub.status.idle": "2022-02-28T08:40:05.123461Z",
     "shell.execute_reply": "2022-02-28T08:40:05.123833Z"
    }
   },
   "outputs": [],
   "source": [
    "expected_proportion_correct = ...\n",
    "expected_proportion_correct"
   ]
  },
  {
   "cell_type": "code",
   "execution_count": null,
   "id": "2c7755a4",
   "metadata": {
    "deletable": false,
    "editable": false
   },
   "outputs": [],
   "source": [
    "grader.check(\"q1_2\")"
   ]
  },
  {
   "cell_type": "markdown",
   "id": "39610845",
   "metadata": {
    "deletable": false,
    "editable": false
   },
   "source": [
    "The goal now is to see if our deviation from this expected proportion of correct answers is due to something other than chance. \n",
    "\n",
    "**Question 1.3:** We usually use a statistic to help determine which model the evidence points towards. What is a statistic that we can use to compare outcomes under Emily’s model to what was observed? Assign `valid_stat` to an array of integer(s) representing test statistics that Emily can use: \n",
    "\n",
    "1. The difference between the expected percent correct and the actual percent correct\n",
    "2. The absolute difference between the expected percent correct and the actual percent correct\n",
    "3. The sum of the expected percent correct and the actual percent correct\n",
    "\n",
    "**NOTE:** Make sure to use `make_array` to create your array of integer(s)!\n",
    "\n",
    "<!--\n",
    "BEGIN QUESTION\n",
    "name: q1_3\n",
    "-->"
   ]
  },
  {
   "cell_type": "code",
   "execution_count": 5,
   "id": "45e8a382",
   "metadata": {
    "execution": {
     "iopub.execute_input": "2022-02-28T08:40:05.144523Z",
     "iopub.status.busy": "2022-02-28T08:40:05.144050Z",
     "iopub.status.idle": "2022-02-28T08:40:05.146868Z",
     "shell.execute_reply": "2022-02-28T08:40:05.147210Z"
    }
   },
   "outputs": [],
   "source": [
    "valid_stat = ...\n",
    "valid_stat"
   ]
  },
  {
   "cell_type": "code",
   "execution_count": null,
   "id": "1a4ac630",
   "metadata": {
    "deletable": false,
    "editable": false
   },
   "outputs": [],
   "source": [
    "grader.check(\"q1_3\")"
   ]
  },
  {
   "cell_type": "markdown",
   "id": "ab282053",
   "metadata": {
    "deletable": false,
    "editable": false
   },
   "source": [
    "**Question 1.4:** Why is the statistic from Question 1.3 the appropriate choice for comparing outcomes in Emily's experiment? How does it relate to the models you defined in Question 1.1?\n",
    "\n",
    "<!--\n",
    "BEGIN QUESTION\n",
    "name: q1_4\n",
    "-->"
   ]
  },
  {
   "cell_type": "markdown",
   "id": "c7dc5f16",
   "metadata": {},
   "source": [
    "_Type your answer here, replacing this text._"
   ]
  },
  {
   "cell_type": "markdown",
   "id": "477b217d",
   "metadata": {
    "deletable": false,
    "editable": false
   },
   "source": [
    "**Question 1.5:** Define the function `statistic` which takes in an expected proportion and an actual proportion, and returns the value of the statistic chosen in Question 1.3. Assume that the argument takes in proportions, but  return your answer as a percentage. \n",
    "\n",
    "*Hint:* Remember we are asking for a **percentage**, not a proportion. \n",
    "\n",
    "<!--\n",
    "BEGIN QUESTION\n",
    "name: q1_5\n",
    "-->"
   ]
  },
  {
   "cell_type": "code",
   "execution_count": 8,
   "id": "223ec6af",
   "metadata": {
    "execution": {
     "iopub.execute_input": "2022-02-28T08:40:05.165930Z",
     "iopub.status.busy": "2022-02-28T08:40:05.165475Z",
     "iopub.status.idle": "2022-02-28T08:40:05.167448Z",
     "shell.execute_reply": "2022-02-28T08:40:05.167815Z"
    }
   },
   "outputs": [],
   "source": [
    "def statistic(expected_prop, actual_prop):\n",
    "    ..."
   ]
  },
  {
   "cell_type": "code",
   "execution_count": null,
   "id": "e79827ee",
   "metadata": {
    "deletable": false,
    "editable": false
   },
   "outputs": [],
   "source": [
    "grader.check(\"q1_5\")"
   ]
  },
  {
   "cell_type": "markdown",
   "id": "055fcfa1",
   "metadata": {
    "deletable": false,
    "editable": false
   },
   "source": [
    "**Question 1.6:** Use your newly defined function to calculate the observed statistic from Emily's experiment. \n",
    "\n",
    "<!--\n",
    "BEGIN QUESTION\n",
    "name: q1_6\n",
    "-->"
   ]
  },
  {
   "cell_type": "code",
   "execution_count": 11,
   "id": "4aae5dff",
   "metadata": {
    "execution": {
     "iopub.execute_input": "2022-02-28T08:40:05.188319Z",
     "iopub.status.busy": "2022-02-28T08:40:05.187604Z",
     "iopub.status.idle": "2022-02-28T08:40:05.190792Z",
     "shell.execute_reply": "2022-02-28T08:40:05.191147Z"
    }
   },
   "outputs": [],
   "source": [
    "observed_statistic = ...\n",
    "observed_statistic"
   ]
  },
  {
   "cell_type": "code",
   "execution_count": null,
   "id": "b03f585b",
   "metadata": {
    "deletable": false,
    "editable": false
   },
   "outputs": [],
   "source": [
    "grader.check(\"q1_6\")"
   ]
  },
  {
   "cell_type": "markdown",
   "id": "bccc4ed0",
   "metadata": {},
   "source": [
    "**Is this observed statistic consistent with what we expect to see under Emily’s model?**\n",
    "\n",
    "In order to answer this question, we must simulate the experiment as though Emily's model was correct, and calculate our statistic for every simulation.\n",
    "\n",
    "### `sample_proportions`\n",
    "\n",
    "`sample_proportions` can be used to randomly sample from multiple categories when you know the proportion of data points that are expected to fall in each category. `sample_proportions` takes two arguments: the sample size and an array that contains the distribution of categories in the population (should sum to 1).\n",
    "\n",
    "Consider flipping a fair coin, where the two outcomes (coin lands heads and coin lands tails) occur with an equal chance. We expect that half of all coin flips will land heads, and half of all coin flips will land tails.\n",
    "\n",
    "Run the following cell to see the simulation of 10 flips of a fair coin. Let the first item of `coin_proportions` be the proportion of heads and the second item of `coin_proportions` be the proportion of tails.\n",
    "\n",
    "*Observe what happens when you run this cell multiple times—the proportion of coin flips that land heads and tails appears to change, as you are simulating flipping 10 coins each time!*"
   ]
  },
  {
   "cell_type": "code",
   "execution_count": 13,
   "id": "06cd5ae3",
   "metadata": {
    "execution": {
     "iopub.execute_input": "2022-02-28T08:40:05.204730Z",
     "iopub.status.busy": "2022-02-28T08:40:05.203952Z",
     "iopub.status.idle": "2022-02-28T08:40:05.239488Z",
     "shell.execute_reply": "2022-02-28T08:40:05.238868Z"
    }
   },
   "outputs": [],
   "source": [
    "coin_proportions = make_array(0.5, 0.5) \n",
    "ten_flips = sample_proportions(10, coin_proportions)\n",
    "ten_flips"
   ]
  },
  {
   "cell_type": "markdown",
   "id": "79a573e5",
   "metadata": {},
   "source": [
    "`sample_proportions` returns an array that is the same length as the proportion array that is passed through. It contains the proportion of each category that appears in the sample. \n",
    "\n",
    "In our example, the first item of `ten_flips` is the simulated proportion of heads and the second item of `ten_flips` is the simulated proportion of tails."
   ]
  },
  {
   "cell_type": "code",
   "execution_count": 14,
   "id": "ffb3af22",
   "metadata": {
    "execution": {
     "iopub.execute_input": "2022-02-28T08:40:05.245417Z",
     "iopub.status.busy": "2022-02-28T08:40:05.244752Z",
     "iopub.status.idle": "2022-02-28T08:40:05.247979Z",
     "shell.execute_reply": "2022-02-28T08:40:05.247567Z"
    }
   },
   "outputs": [],
   "source": [
    "simulated_proportion_heads = ten_flips.item(0)\n",
    "simulated_proportion_tails = ten_flips.item(1)\n",
    "\n",
    "print(\"In our simulation, \" + str(simulated_proportion_heads) + \" of flips were heads and \" \\\n",
    "      + str(simulated_proportion_tails) + \" of flips were tails.\")"
   ]
  },
  {
   "cell_type": "markdown",
   "id": "512703c0",
   "metadata": {
    "deletable": false,
    "editable": false
   },
   "source": [
    "**Question 1.7:** To begin simulating, we should start by creating a representation of Emily's model to use for our simulation. This will be an array with two items in it. The first item should be the proportion of times a TT practictioner picks the correct hand, assuming that Emily’s model was correct. The second item should be the proportion of times, under the same assumption, that the TT practitioner picks the incorrect hand. Assign `model_proportions` to this array. \n",
    "\n",
    "After this, we can simulate 210 hand choices, as Emily evaluated in real life, and find a single statistic to summarize this instance of the simulation. Use the `sample_proportions` function and assign the **proportion of correct hand choices** (out of 210) to `simulation_proportion_correct`. Lastly, use your statistic function to assign `one_statistic`  to the value of the statistic for this one simulation.\n",
    "\n",
    "*Hint:* `sample_proportions` usage can be found on the [Python Reference](http://data8.org/fa21/python-reference.html).\n",
    "\n",
    "<!--\n",
    "BEGIN QUESTION\n",
    "name: q1_7\n",
    "-->"
   ]
  },
  {
   "cell_type": "code",
   "execution_count": 15,
   "id": "b3be9db5",
   "metadata": {
    "execution": {
     "iopub.execute_input": "2022-02-28T08:40:05.254281Z",
     "iopub.status.busy": "2022-02-28T08:40:05.253488Z",
     "iopub.status.idle": "2022-02-28T08:40:05.256449Z",
     "shell.execute_reply": "2022-02-28T08:40:05.256816Z"
    }
   },
   "outputs": [],
   "source": [
    "# This saves the random state of our code so that we can \n",
    "# generate the same numbers each time we run the code.\n",
    "# Please do not change this line. \n",
    "np.random.seed(16)\n",
    "\n",
    "model_proportions = ...\n",
    "simulation_proportion_correct = ...\n",
    "one_statistic = ...\n",
    "one_statistic"
   ]
  },
  {
   "cell_type": "code",
   "execution_count": null,
   "id": "54e65e24",
   "metadata": {
    "deletable": false,
    "editable": false
   },
   "outputs": [],
   "source": [
    "grader.check(\"q1_7\")"
   ]
  },
  {
   "cell_type": "markdown",
   "id": "fb320bfd",
   "metadata": {},
   "source": [
    "**Question 1.8:** Let's now see what the distribution of statistics is actually like under Emily's model. \n",
    "\n",
    "Define the function `simulation_and_statistic` to take in the `model_proportions` array and the expected proportion of times a TT practitioner would guess a hand correctly under Emily's model. The function should simulate Emily running through the experiment 210 times and return the statistic of this one simulation. \n",
    "\n",
    "*Hint:* This should follow the same pattern as the code you did in the previous problem.  "
   ]
  },
  {
   "cell_type": "code",
   "execution_count": 22,
   "id": "9cb8a9b2",
   "metadata": {
    "execution": {
     "iopub.execute_input": "2022-02-28T08:40:05.306018Z",
     "iopub.status.busy": "2022-02-28T08:40:05.305516Z",
     "iopub.status.idle": "2022-02-28T08:40:05.341083Z",
     "shell.execute_reply": "2022-02-28T08:40:05.340545Z"
    },
    "for_assignment_type": "solution"
   },
   "outputs": [],
   "source": [
    "def simulation_and_statistic(model_proportions, expected_proportion_correct):\n",
    "    '''Simulates 210 TT hand choices under Emily’s model. \n",
    "    Returns one statistic from the simulation.'''\n",
    "    ..."
   ]
  },
  {
   "cell_type": "markdown",
   "id": "665a24a3",
   "metadata": {
    "deletable": false,
    "editable": false
   },
   "source": [
    "Using this function, assign `simulated_statistics` to an array of 1000 statistics that you calculated under the assumption that Emily's model was true.\n",
    "\n",
    "<!--\n",
    "BEGIN QUESTION\n",
    "name: q1_8\n",
    "-->"
   ]
  },
  {
   "cell_type": "code",
   "execution_count": 23,
   "id": "eb5c2873",
   "metadata": {
    "execution": {
     "iopub.execute_input": "2022-02-28T08:40:05.347394Z",
     "iopub.status.busy": "2022-02-28T08:40:05.346831Z",
     "iopub.status.idle": "2022-02-28T08:40:05.364100Z",
     "shell.execute_reply": "2022-02-28T08:40:05.363368Z"
    }
   },
   "outputs": [],
   "source": [
    "num_repetitions = 1000\n",
    "\n",
    "simulated_statistics = ...\n",
    "\n",
    "for ... in ...:\n",
    "    ..."
   ]
  },
  {
   "cell_type": "code",
   "execution_count": null,
   "id": "425386b8",
   "metadata": {
    "deletable": false,
    "editable": false
   },
   "outputs": [],
   "source": [
    "grader.check(\"q1_8\")"
   ]
  },
  {
   "cell_type": "markdown",
   "id": "fc3556c7",
   "metadata": {},
   "source": [
    "Let's view the distribution of the simulated statistics under Emily's model, and visually compare where the observed statistic lies relative to the simulated statistics."
   ]
  },
  {
   "cell_type": "code",
   "execution_count": 28,
   "id": "d794fc0d",
   "metadata": {
    "execution": {
     "iopub.execute_input": "2022-02-28T08:40:05.437253Z",
     "iopub.status.busy": "2022-02-28T08:40:05.412291Z",
     "iopub.status.idle": "2022-02-28T08:40:05.750136Z",
     "shell.execute_reply": "2022-02-28T08:40:05.749546Z"
    }
   },
   "outputs": [],
   "source": [
    "t = Table().with_column('Simulated Statistics', simulated_statistics)\n",
    "t.hist()\n",
    "plt.scatter(observed_statistic, 0, color='red', s=100, zorder=2);"
   ]
  },
  {
   "cell_type": "markdown",
   "id": "6529497d",
   "metadata": {},
   "source": [
    "We can make a visual argument as to whether we believe the observed statistic is consistent with Emily’s model. Here, since larger values of the test statistic suggest the alternative model (where the chance of guessing the correct hand is something other than 50%), we can formalize our analysis by finding what proportion of simulated statistics were as large or larger than our observed test statistic (the area at or to the right of the observed test statistic). If this area is small enough, we’ll declare that the observed data are inconsistent with our simulated model. Here is the [link](https://inferentialthinking.com/chapters/11/1/Assessing_a_Model.html) to the section in the textbook."
   ]
  },
  {
   "cell_type": "markdown",
   "id": "afcbdf5d",
   "metadata": {
    "deletable": false,
    "editable": false
   },
   "source": [
    "**Question 1.9:** Calculate the proportion of simulated statistics greater than or equal to the observed statistic. \n",
    "\n",
    "*Hint:* `np.count_nonzero` usage can be found [here](http://data8.org/fa21/python-reference.html).\n",
    "\n",
    "<!--\n",
    "BEGIN QUESTION\n",
    "name: q1_9\n",
    "-->"
   ]
  },
  {
   "cell_type": "code",
   "execution_count": 29,
   "id": "38f94138",
   "metadata": {
    "execution": {
     "iopub.execute_input": "2022-02-28T08:40:05.755881Z",
     "iopub.status.busy": "2022-02-28T08:40:05.755314Z",
     "iopub.status.idle": "2022-02-28T08:40:05.759112Z",
     "shell.execute_reply": "2022-02-28T08:40:05.759526Z"
    },
    "scrolled": true
   },
   "outputs": [],
   "source": [
    "proportion_greater_or_equal = ...\n",
    "proportion_greater_or_equal"
   ]
  },
  {
   "cell_type": "code",
   "execution_count": null,
   "id": "6456f2a2",
   "metadata": {
    "deletable": false,
    "editable": false
   },
   "outputs": [],
   "source": [
    "grader.check(\"q1_9\")"
   ]
  },
  {
   "cell_type": "markdown",
   "id": "b40ca4d0",
   "metadata": {},
   "source": [
    "By convention, we often compare the proportion we just calculated to 0.05. If the proportion of simulated statistics greater than or equal to the observed statistic is sufficiently small (less than or equal to 0.05), then this is evidence against Emily's model. Conceptually, you may think of this as the case where less than 5% of simulated values are as far or farther away from what we had expected. If this is not the case, we don’t have any reason to doubt Emily’s model. \n",
    "\n",
    "This should help you make your own conclusions about Emily Rosa's experiment. \n",
    "\n",
    "Therapeutic touch fell out of use after this experiment, which was eventually accepted into one of the premier medical journals. TT practitioners hit back and accused Emily and her family of tampering with the results, while some claimed that Emily's bad spiritual mood towards therapeutic touch made it difficult to read her HEF. Whatever it may be, Emily's experiment is a classic example about how anyone, with the right resources, can test anything they want!"
   ]
  },
  {
   "cell_type": "markdown",
   "id": "ecfb33c5",
   "metadata": {
    "deletable": false,
    "editable": false
   },
   "source": [
    "**Question 1.10:** Now, take some time to think to yourself and discuss with your peers:\n",
    "\n",
    "1. Is the data more consistent with Emily' model (practioners were randomly guessing)?\n",
    "2. What does this mean in terms of Emily's experiment? Do the TT practitioners' answers follow an even chance model or is there something else at play? \n",
    "\n",
    "Did you talk to your peers? (T/F)\n",
    "\n",
    "<!--\n",
    "BEGIN QUESTION\n",
    "name: q1_10\n",
    "-->"
   ]
  },
  {
   "cell_type": "code",
   "execution_count": 32,
   "id": "34346987",
   "metadata": {
    "execution": {
     "iopub.execute_input": "2022-02-28T08:40:05.783956Z",
     "iopub.status.busy": "2022-02-28T08:40:05.782873Z",
     "iopub.status.idle": "2022-02-28T08:40:05.786894Z",
     "shell.execute_reply": "2022-02-28T08:40:05.786383Z"
    }
   },
   "outputs": [],
   "source": [
    "peer_talk = ...\n",
    "peer_talk"
   ]
  },
  {
   "cell_type": "code",
   "execution_count": 33,
   "id": "22072c95",
   "metadata": {
    "execution": {
     "iopub.execute_input": "2022-02-28T08:40:05.792315Z",
     "iopub.status.busy": "2022-02-28T08:40:05.791508Z",
     "iopub.status.idle": "2022-02-28T08:40:05.796368Z",
     "shell.execute_reply": "2022-02-28T08:40:05.795694Z"
    }
   },
   "outputs": [],
   "source": [
    "peer_talk == True"
   ]
  },
  {
   "cell_type": "markdown",
   "id": "9dcaa557",
   "metadata": {},
   "source": [
    "## 2. Submission\n",
    "\n",
    "<img src=\"appa_momo.jpg\" alt=\"drawing\" width=\"300\"/>\n",
    "\n",
    "Congratulations, you're done with Lab 6!  Be sure to \n",
    "- **Run all the tests** (the next cell has a shortcut for that). \n",
    "- **Save** from the `File` menu.\n",
    "- **Run the cell at the bottom to download a .zip file and submit to Gradescope.**.\n",
    "- If you're in lab, ask one of the staff members to check you off."
   ]
  },
  {
   "cell_type": "markdown",
   "id": "29b72ea1",
   "metadata": {
    "deletable": false,
    "editable": false
   },
   "source": [
    "---\n",
    "\n",
    "To double-check your work, the cell below will rerun all of the autograder tests."
   ]
  },
  {
   "cell_type": "code",
   "execution_count": null,
   "id": "01d0bbc3",
   "metadata": {
    "deletable": false,
    "editable": false
   },
   "outputs": [],
   "source": [
    "grader.check_all()"
   ]
  },
  {
   "cell_type": "markdown",
   "id": "1a2cb62a",
   "metadata": {
    "deletable": false,
    "editable": false
   },
   "source": [
    "## Submission\n",
    "\n",
    "Make sure you have run all cells in your notebook in order before running the cell below, so that all images/graphs appear in the output. The cell below will generate a zip file for you to submit. **Please save before exporting!**"
   ]
  },
  {
   "cell_type": "code",
   "execution_count": null,
   "id": "0ef12fa7",
   "metadata": {
    "deletable": false,
    "editable": false
   },
   "outputs": [],
   "source": [
    "# Save your notebook first, then run this cell to export your submission.\n",
    "grader.export(pdf=False)"
   ]
  },
  {
   "cell_type": "markdown",
   "id": "5ab186bb",
   "metadata": {},
   "source": [
    " "
   ]
  }
 ],
 "metadata": {
  "kernelspec": {
   "display_name": "Python 3",
   "language": "python",
   "name": "python3"
  },
  "language_info": {
   "codemirror_mode": {
    "name": "ipython",
    "version": 3
   },
   "file_extension": ".py",
   "mimetype": "text/x-python",
   "name": "python",
   "nbconvert_exporter": "python",
   "pygments_lexer": "ipython3",
   "version": "3.9.9"
  }
 },
 "nbformat": 4,
 "nbformat_minor": 5
}
